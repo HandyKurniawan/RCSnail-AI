{
 "cells": [
  {
   "cell_type": "code",
   "execution_count": 1,
   "metadata": {},
   "outputs": [
    {
     "data": {
      "text/html": [
       "\n",
       "<style>\n",
       "    div#notebook-container    { width: 75%; }\n",
       "</style>\n"
      ],
      "text/plain": [
       "<IPython.core.display.HTML object>"
      ]
     },
     "metadata": {},
     "output_type": "display_data"
    }
   ],
   "source": [
    "from IPython.display import display, HTML\n",
    "\n",
    "display(HTML(data=\"\"\"\n",
    "<style>\n",
    "    div#notebook-container    { width: 75%; }\n",
    "</style>\n",
    "\"\"\"))"
   ]
  },
  {
   "cell_type": "code",
   "execution_count": 2,
   "metadata": {},
   "outputs": [],
   "source": [
    "%matplotlib inline\n",
    "import os\n",
    "import sys\n",
    "import gc\n",
    "import time\n",
    "from tqdm.notebook import tqdm\n",
    "\n",
    "import numpy as np\n",
    "import matplotlib.pyplot as plt\n",
    "from sklearn.model_selection import train_test_split\n",
    "from tensorflow.keras.utils import plot_model\n",
    "\n",
    "module_path = os.path.abspath(os.path.join('..'))\n",
    "if module_path not in sys.path:\n",
    "    sys.path.append(module_path)\n",
    "\n",
    "from commons.configuration_manager import ConfigurationManager\n",
    "from src.utilities.transformer import Transformer\n",
    "from src.learning.training.generator import Generator, GenFiles\n",
    "from src.learning.models import create_cnn_nvidia, create_cnn_alone, create_cnn_alone_categorical, \\\n",
    "                                create_mlp, create_multi_model_2, create_multi_model_3, \\\n",
    "                                create_cnn_nvidia_deep, create_cnn_nvidia_shallow, create_cnn_nvidia_middle, create_multi_cnn"
   ]
  },
  {
   "cell_type": "code",
   "execution_count": 3,
   "metadata": {},
   "outputs": [],
   "source": [
    "def plot_stuff(title, plot_elems, figsize=(18, 10)):\n",
    "    fig=plt.figure(figsize=figsize)\n",
    "    plt.title(title)\n",
    "    #plt.ylabel('dunno')\n",
    "    plt.xlabel('Epoch')\n",
    "    x = np.arange(0, len(plot_elems[0]['data']), 1)\n",
    "    \n",
    "    for plot_elem in plot_elems:\n",
    "        plt.errorbar(x, plot_elem['data'], yerr=plot_elem['error'], label=plot_elem['label'], alpha=plot_elem['alpha'], fmt='-o', capsize=5)\n",
    "\n",
    "    plt.grid(axis='x')\n",
    "    plt.legend(loc='best', prop={'size': 15})\n",
    "    plt.show()\n",
    "    plt.savefig('./' + title + '.png')\n",
    "    \n",
    "def get_model_num(model_path, model_prefix):\n",
    "    model_files = [fn for fn in os.listdir(model_path) if fn.startswith(model_prefix) and fn.endswith('.h5')]\n",
    "    # expected format is \"model_n1_m1_9.h5\"\n",
    "    existing_nums = [int(fn.split('_')[3].split('.')[0]) for fn in model_files]\n",
    "    \n",
    "    latest_num = sorted(existing_nums)[-1]\n",
    "    return int(latest_num) + 1"
   ]
  },
  {
   "cell_type": "code",
   "execution_count": 4,
   "metadata": {},
   "outputs": [],
   "source": [
    "config_manager = ConfigurationManager()\n",
    "config = config_manager.config\n",
    "\n",
    "memory_variants = [(1, 1), (4, 1), (8, 1)]\n",
    "memory_variants = memory_variants[0:2]\n",
    "memory = memory_variants[0]\n",
    "\n",
    "model_path = '../../training/models/'"
   ]
  },
  {
   "cell_type": "code",
   "execution_count": 6,
   "metadata": {},
   "outputs": [
    {
     "name": "stdout",
     "output_type": "stream",
     "text": [
      "Target shape: 2\n",
      "Input shapes: (50, 180, 3); (2,)\n"
     ]
    },
    {
     "data": {
      "application/vnd.jupyter.widget-view+json": {
       "model_id": "3f671aeb870e45e79fdaddb5870c7845",
       "version_major": 2,
       "version_minor": 0
      },
      "text/plain": [
       "HBox(children=(FloatProgress(value=0.0, max=1.0), HTML(value='')))"
      ]
     },
     "metadata": {},
     "output_type": "display_data"
    },
    {
     "name": "stdout",
     "output_type": "stream",
     "text": [
      "n1_m1\n",
      "WARNING:tensorflow:sample_weight modes were coerced from\n",
      "  ...\n",
      "    to  \n",
      "  ['...']\n",
      "WARNING:tensorflow:sample_weight modes were coerced from\n",
      "  ...\n",
      "    to  \n",
      "  ['...']\n",
      "Train for 3709 steps, validate for 927 steps\n",
      "Epoch 1/6\n",
      "3709/3709 [==============================] - 273s 74ms/step - loss: 0.5821 - val_loss: 0.2551\n",
      "Epoch 2/6\n",
      "3709/3709 [==============================] - 272s 73ms/step - loss: 0.2364 - val_loss: 0.2175\n",
      "Epoch 3/6\n",
      "3709/3709 [==============================] - 273s 74ms/step - loss: 0.2167 - val_loss: 0.2060\n",
      "Epoch 4/6\n",
      "3709/3709 [==============================] - 273s 74ms/step - loss: 0.2106 - val_loss: 0.1975\n",
      "Epoch 5/6\n",
      "3709/3709 [==============================] - 273s 74ms/step - loss: 0.2071 - val_loss: 0.1953\n",
      "Epoch 6/6\n",
      "3709/3709 [==============================] - 274s 74ms/step - loss: 0.2053 - val_loss: 0.1938\n",
      "Loss per epoch: [0.582085972097917, 0.23644311708014235, 0.21672129048896818, 0.21056675145602927, 0.20709500373631162, 0.20533003760303375]\n",
      "Validation loss per epoch: [0.25513000749332876, 0.217510798039817, 0.20599048775183731, 0.19752811286055927, 0.19530175600558553, 0.19381620170711314]\n",
      "\n"
     ]
    },
    {
     "data": {
      "text/plain": [
       "0"
      ]
     },
     "execution_count": 6,
     "metadata": {},
     "output_type": "execute_result"
    }
   ],
   "source": [
    "# Model experiments\n",
    "\n",
    "epochs = 6\n",
    "batch_size = 32\n",
    "verbose = 1\n",
    "\n",
    "losses = []\n",
    "val_losses = []\n",
    "\n",
    "generator = Generator(config, memory_tuple=memory, base_path='../../training/', batch_size=batch_size, column_mode='steer')\n",
    "frame_shape, numeric_shape, diff_shape = generator.get_shapes()\n",
    "tqdm.write('Target shape: {}'.format(diff_shape))\n",
    "tqdm.write('Input shapes: {}; {}'.format(frame_shape, numeric_shape))\n",
    "\n",
    "models = []\n",
    "\n",
    "#mlp = create_mlp(input_shape=numeric_shape)\n",
    "#cnn = create_cnn_nvidia(input_shape=frame_shape)\n",
    "#models.append((create_multi_model_3(mlp, cnn, output_shape=diff_shape), generator.generate_with_numeric))\n",
    "\n",
    "#cnn_1 = create_cnn_nvidia_shallow(input_shape=frame_shape)\n",
    "cnn_2 = create_cnn_nvidia_deep(input_shape=frame_shape)\n",
    "cnn_3 = create_cnn_nvidia_middle(input_shape=frame_shape)\n",
    "models.append((create_multi_cnn([cnn_2, cnn_3], output_shape=diff_shape), generator.generate_with_super_duper))\n",
    "\n",
    "for model, generate_method in tqdm(models):\n",
    "    result_desc = 'n{}_m{}'.format(*memory)\n",
    "    tqdm.write(result_desc)\n",
    "\n",
    "    hist = model.fit(generate_method(data='train'),\n",
    "                     steps_per_epoch=generator.train_batch_count,\n",
    "                     validation_data=generate_method(data='test'),\n",
    "                     validation_steps=generator.test_batch_count,\n",
    "                     epochs=epochs, verbose=verbose)\n",
    "\n",
    "    model_file_prefix = 'model_n{}_m{}'.format(*memory)\n",
    "    model_file_suffix = '_{}.{}'\n",
    "\n",
    "    model_number = get_model_num(model_path, model_file_prefix)\n",
    "    plot_model(model, to_file=model_path + model_file_prefix + model_file_suffix.format(model_number, 'png'), show_shapes=True)\n",
    "    model.save(model_path + model_file_prefix + model_file_suffix.format(model_number, 'h5'))\n",
    "    \n",
    "    current_loss = hist.history['loss']\n",
    "    current_val_loss = hist.history['val_loss'] \n",
    "    \n",
    "    losses.append(current_loss)\n",
    "    val_losses.append(current_val_loss)\n",
    "    \n",
    "    tqdm.write(\"Loss per epoch: {}\".format(current_loss))\n",
    "    tqdm.write(\"Validation loss per epoch: {}\".format(current_val_loss))\n",
    "    \n",
    "    gc.collect()\n",
    "\n",
    "os.system(\"printf '\\a'\")"
   ]
  },
  {
   "cell_type": "code",
   "execution_count": null,
   "metadata": {},
   "outputs": [],
   "source": [
    "# Memory experiments on steering + throttle models\n",
    "\n",
    "epochs = 8\n",
    "batch_size = 32\n",
    "verbose = 1\n",
    "\n",
    "losses = []\n",
    "val_losses = []\n",
    "    \n",
    "for memory in tqdm(memory_variants):\n",
    "    result_desc = 'n{}_m{}'.format(*memory)\n",
    "    tqdm.write(result_desc)\n",
    "    \n",
    "    generator = Generator(config, memory_tuple=memory, base_path='../../training/', batch_size=batch_size, column_mode='steer')\n",
    "    frame_shape, numeric_shape, diff_shape = generator.get_shapes()\n",
    "    tqdm.write('Target shape: {}'.format(diff_shape))\n",
    "    tqdm.write('Input shapes: {}; {}'.format(frame_shape, numeric_shape))\n",
    "    \n",
    "    #model = create_cnn_alone(input_shape=frame_shape, output_shape=diff_shape)\n",
    "    \n",
    "    mlp = create_mlp(input_shape=numeric_shape)\n",
    "    cnn = create_cnn_nvidia(input_shape=frame_shape)\n",
    "    model = create_multi_model_3(mlp, cnn, output_shape=diff_shape)\n",
    "\n",
    "    hist = model.fit(generator.generate_with_numeric(data='train'),\n",
    "                     steps_per_epoch=generator.train_batch_count,\n",
    "                     validation_data=generator.generate_with_numeric(data='test'),\n",
    "                     validation_steps=generator.test_batch_count,\n",
    "                     epochs=epochs, verbose=verbose)\n",
    "\n",
    "    model_file_prefix = 'model_n{}_m{}'.format(*memory)\n",
    "    model_file_suffix = '_{}.{}'\n",
    "\n",
    "    model_number = get_model_num(model_path, model_file_prefix)\n",
    "    plot_model(model, to_file=model_path + model_file_prefix + model_file_suffix.format(model_number, 'png'), show_shapes=True)\n",
    "    model.save(model_path + model_file_prefix + model_file_suffix.format(model_number, 'h5'))\n",
    "    \n",
    "    current_loss = hist.history['loss']\n",
    "    current_val_loss = hist.history['val_loss'] \n",
    "    \n",
    "    losses.append(current_loss)\n",
    "    val_losses.append(current_val_loss)\n",
    "    \n",
    "    tqdm.write(\"Loss per epoch: {}\".format(current_loss))\n",
    "    tqdm.write(\"Validation loss per epoch: {}\".format(current_val_loss))\n",
    "    \n",
    "    gc.collect()\n",
    "    \n",
    "os.system(\"printf '\\a'\")"
   ]
  },
  {
   "cell_type": "code",
   "execution_count": null,
   "metadata": {},
   "outputs": [],
   "source": [
    "# Memory experiments on gear models\n",
    "\n",
    "epochs = 5\n",
    "batch_size = 32\n",
    "verbose = 1\n",
    "\n",
    "gear_losses = []\n",
    "gear_val_losses = []\n",
    "    \n",
    "for memory in tqdm(memory_variants):\n",
    "    result_desc = 'n{}_m{}'.format(*memory)\n",
    "    tqdm.write(result_desc)\n",
    "    \n",
    "    generator = Generator(config, memory_tuple=memory, base_path='../../training/', batch_size=batch_size, column_mode='all')\n",
    "    frame_shape, numeric_shape, diff_shape = generator.get_shapes()\n",
    "    tqdm.write('Target shape: {}'.format(diff_shape))\n",
    "    tqdm.write('Input shapes: {}; {}'.format(frame_shape, numeric_shape))\n",
    "    \n",
    "    mlp = create_mlp(input_shape=numeric_shape)\n",
    "    cnn = create_cnn_nvidia(input_shape=frame_shape)\n",
    "    gear_model = create_multi_model_2(mlp, cnn, output_shape=2)\n",
    "\n",
    "    hist = gear_model.fit(generator.generate_with_numeric(data='train'),\n",
    "                          steps_per_epoch=generator.train_batch_count,\n",
    "                          validation_data=generator.generate_with_numeric(data='test'),\n",
    "                          validation_steps=generator.test_batch_count,\n",
    "                          epochs=epochs, verbose=verbose)\n",
    "\n",
    "    model_file_prefix = 'gear_model_n{}_m{}'.format(*memory)\n",
    "    model_file_suffix = '_{}.{}'\n",
    "\n",
    "    model_number = get_model_num(model_path, model_file_prefix)\n",
    "    plot_model(gear_model, to_file=model_path + model_file_prefix + model_file_suffix.format(model_number, 'png'), show_shapes=True)\n",
    "    gear_model.save(model_path + model_file_prefix + model_file_suffix.format(model_number, 'h5'))\n",
    "    \n",
    "    current_loss = hist.history['loss']\n",
    "    current_val_loss = hist.history['val_loss'] \n",
    "    \n",
    "    gear_losses.append(current_loss)\n",
    "    gear_val_losses.append(current_val_loss)\n",
    "    \n",
    "    tqdm.write(\"Loss per epoch: {}\".format(current_loss))\n",
    "    tqdm.write(\"Validation loss per epoch: {}\".format(current_val_loss))\n",
    "    \n",
    "    gc.collect()"
   ]
  },
  {
   "cell_type": "code",
   "execution_count": null,
   "metadata": {},
   "outputs": [],
   "source": [
    "loss_data = []\n",
    "val_loss_data = []\n",
    "\n",
    "for i in range(0, len(losses)):\n",
    "    val_loss_data.append({'data': val_losses[i], 'label': key, 'alpha': 1.0})\n",
    "    loss_data.append({'data': losses[i], 'label': key, 'alpha': 1.0})\n",
    "        \n",
    "plot_stuff(\"val losses\", val_loss_data, figsize=(10, 14))\n",
    "plot_stuff(\"losses\", loss_data, figsize=(10, 14))"
   ]
  },
  {
   "cell_type": "code",
   "execution_count": null,
   "metadata": {},
   "outputs": [],
   "source": [
    "import tensorflow as tf\n",
    "\n",
    "generator = Generator(config, memory_tuple=memory, base_path='../../training/', batch_size=32, column_mode='steer', separate_files=True)\n",
    "frame_shape, numeric_shape, diff_shape = generator.get_shapes()\n",
    "\n",
    "shapes = ([50, 180, 12], ())\n",
    "types = (np.float32, np.float32)\n",
    "\n",
    "train_dataset = tf.data.Dataset.from_generator(generator.generate_single_train, output_types=types, output_shapes=shapes)\n",
    "train_dataset = train_dataset.batch(batch_size=32)\n",
    "train_dataset = train_dataset.shuffle(buffer_size=10)\n",
    "\n",
    "val_dataset = tf.data.Dataset.from_generator(generator.generate_single_test, output_types=types, output_shapes=shapes)\n",
    "val_dataset = val_dataset.batch(batch_size=32)\n",
    "val_dataset = val_dataset.shuffle(buffer_size=10)\n",
    "\n",
    "model = create_cnn_alone(input_shape=frame_shape, output_shape=diff_shape)\n",
    "\n",
    "hist = model.fit(train_dataset,\n",
    "                 steps_per_epoch=generator.train_batch_count,\n",
    "                 validation_data=val_dataset,\n",
    "                 validation_steps=generator.test_batch_count,\n",
    "                 epochs=10, verbose=1)"
   ]
  }
 ],
 "metadata": {
  "kernelspec": {
   "display_name": "Python 3",
   "language": "python",
   "name": "python3"
  },
  "language_info": {
   "codemirror_mode": {
    "name": "ipython",
    "version": 3
   },
   "file_extension": ".py",
   "mimetype": "text/x-python",
   "name": "python",
   "nbconvert_exporter": "python",
   "pygments_lexer": "ipython3",
   "version": "3.7.6"
  },
  "pycharm": {
   "stem_cell": {
    "cell_type": "raw",
    "metadata": {
     "collapsed": false
    },
    "source": []
   }
  }
 },
 "nbformat": 4,
 "nbformat_minor": 2
}
