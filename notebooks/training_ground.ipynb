{
 "cells": [
  {
   "cell_type": "code",
   "execution_count": 4,
   "metadata": {},
   "outputs": [],
   "source": [
    "%matplotlib inline\n",
    "import numpy as np\n",
    "import matplotlib.pyplot as plt\n",
    "import pandas as pd\n",
    "from sklearn.model_selection import train_test_split\n",
    "\n",
    "import os\n",
    "import sys\n",
    "module_path = os.path.abspath(os.path.join('..'))\n",
    "if module_path not in sys.path:\n",
    "    sys.path.append(module_path)\n",
    "\n",
    "from commons.configuration_manager import ConfigurationManager\n",
    "from src.learning.training.training_transformer import TrainingTransformer\n",
    "from src.learning.training.label_collector import LabelCollector\n",
    "from src.learning.training.training_file_reader import TrainingFileReader\n",
    "from src.learning.models import create_cnn, create_mlp, create_multi_model\n",
    "\n",
    "config_manager = ConfigurationManager()\n",
    "config = config_manager.config\n",
    "\n",
    "reader = TrainingFileReader(path_to_training='../../training/laps/')\n",
    "transformer = TrainingTransformer(config)\n",
    "collector = LabelCollector()\n",
    "\n",
    "def memory_creator(new_frame, memory, length=4, interval=2):\n",
    "    memory.append(new_frame)\n",
    "    \n",
    "    near_memory = memory[::-interval]\n",
    "    if len(near_memory) < length:\n",
    "        return None\n",
    "    \n",
    "    if len(memory) >= length * interval:\n",
    "        memory.pop(0)\n",
    "        \n",
    "    return np.concatenate(near_memory, axis=2)"
   ]
  },
  {
   "cell_type": "code",
   "execution_count": 18,
   "metadata": {},
   "outputs": [
    {
     "name": "stdout",
     "output_type": "stream",
     "text": [
      "(6572, 40, 60, 12)\n",
      "(6572, 4)\n",
      "['cg' 'cs' 'ct' 'cb']\n",
      "(6572, 4)\n",
      "['d_gear' 'd_steering' 'd_throttle' 'd_braking']\n"
     ]
    }
   ],
   "source": [
    "filename = 'lap_6_2020_01_24'\n",
    "\n",
    "df = reader.read_telemetry_as_csv(filename + '.csv')\n",
    "telemetry = collector.collect_numeric_inputs(df)\n",
    "diffs = collector.collect_expert_labels(df)\n",
    "\n",
    "frames = reader.read_training_video(filename + '.avi')\n",
    "resized_frames_np = transformer.resize_video_for_training(frames)\n",
    "\n",
    "memory = []\n",
    "mem_frames = []\n",
    "for frame in resized_frames_np:\n",
    "    mem_frame = memory_creator(frame, memory)\n",
    "    \n",
    "    if mem_frame is not None:\n",
    "        mem_frames.append(mem_frame)\n",
    "        \n",
    "resized_frames_np = np.array(mem_frames)\n",
    "\n",
    "len_diff = telemetry.shape[0] - resized_frames_np.shape[0]\n",
    "if len_diff > 0:\n",
    "    telemetry = telemetry.iloc[len_diff:]\n",
    "    diffs = diffs.iloc[len_diff:]\n",
    "    \n",
    "print(resized_frames_np.shape)\n",
    "print(telemetry.shape)\n",
    "print(telemetry.columns.values)\n",
    "print(diffs.shape)\n",
    "print(diffs.columns.values)\n",
    "\n",
    "telemetry_np = telemetry.to_numpy()\n",
    "diffs_np = diffs.to_numpy()\n",
    "\n",
    "frames_train, frames_test, telemetry_train, telemetry_test, diffs_train, diffs_test = train_test_split(resized_frames_np, telemetry_np, diffs_np, test_size=0.2)"
   ]
  },
  {
   "cell_type": "code",
   "execution_count": 19,
   "metadata": {},
   "outputs": [],
   "source": [
    "mlp = create_mlp()\n",
    "cnn = create_cnn()\n",
    "multi = create_multi_model(mlp, cnn)\n",
    "#multi.summary()\n",
    "\n",
    "epochs = 6\n",
    "batch_size = 32\n",
    "verbose = 1"
   ]
  },
  {
   "cell_type": "code",
   "execution_count": null,
   "metadata": {},
   "outputs": [],
   "source": [
    "multi.fit([telemetry_train, frames_train], diffs_train,\n",
    "                validation_data=([telemetry_test, frames_test], diffs_test),\n",
    "                epochs=epochs,\n",
    "                batch_size=batch_size,\n",
    "                verbose=verbose)"
   ]
  },
  {
   "cell_type": "code",
   "execution_count": null,
   "metadata": {},
   "outputs": [],
   "source": []
  }
 ],
 "metadata": {
  "kernelspec": {
   "display_name": "Python 3",
   "language": "python",
   "name": "python3"
  },
  "language_info": {
   "codemirror_mode": {
    "name": "ipython",
    "version": 3
   },
   "file_extension": ".py",
   "mimetype": "text/x-python",
   "name": "python",
   "nbconvert_exporter": "python",
   "pygments_lexer": "ipython3",
   "version": "3.7.4"
  }
 },
 "nbformat": 4,
 "nbformat_minor": 2
}
