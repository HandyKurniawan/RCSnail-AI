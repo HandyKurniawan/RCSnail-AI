{
 "cells": [
  {
   "cell_type": "code",
   "execution_count": null,
   "metadata": {},
   "outputs": [],
   "source": [
    "%matplotlib inline\n",
    "import os\n",
    "import sys\n",
    "import gc\n",
    "import time\n",
    "from tqdm.notebook import tqdm\n",
    "\n",
    "import numpy as np\n",
    "import matplotlib.pyplot as plt\n",
    "from sklearn.model_selection import train_test_split\n",
    "from tensorflow.keras.utils import plot_model\n",
    "\n",
    "module_path = os.path.abspath(os.path.join('..'))\n",
    "if module_path not in sys.path:\n",
    "    sys.path.append(module_path)\n",
    "\n",
    "from commons.configuration_manager import ConfigurationManager\n",
    "from src.utilities.transformer import Transformer\n",
    "from src.learning.training.generator import Generator, GenFiles\n",
    "from src.learning.models import create_cnn, create_mlp, create_multi_model"
   ]
  },
  {
   "cell_type": "code",
   "execution_count": null,
   "metadata": {},
   "outputs": [],
   "source": [
    "def plot_stuff(title, plot_elems, figsize=(18, 10)):\n",
    "    fig=plt.figure(figsize=figsize)\n",
    "    plt.title(title)\n",
    "    #plt.ylabel('dunno')\n",
    "    plt.xlabel('Epoch')\n",
    "    x = np.arange(0, len(plot_elems[0]['data']), 1)\n",
    "    \n",
    "    for plot_elem in plot_elems:\n",
    "        plt.errorbar(x, plot_elem['data'], yerr=plot_elem['error'], label=plot_elem['label'], alpha=plot_elem['alpha'], fmt='-o', capsize=5)\n",
    "\n",
    "    plt.grid(axis='x')\n",
    "    plt.legend(loc='best', prop={'size': 15})\n",
    "    plt.show()\n",
    "    plt.savefig('./' + title + '.png')"
   ]
  },
  {
   "cell_type": "code",
   "execution_count": null,
   "metadata": {},
   "outputs": [],
   "source": [
    "config_manager = ConfigurationManager()\n",
    "config = config_manager.config\n",
    "\n",
    "memory_variants = [(1, 1), (4, 1), (4, 4), (8, 1), (8, 4)]\n",
    "memory_variants = [(1, 1), (4, 1)]\n",
    "spec_memory = memory_variants[1]\n",
    "\n",
    "model_path = '../../training/models/'"
   ]
  },
  {
   "cell_type": "code",
   "execution_count": null,
   "metadata": {},
   "outputs": [],
   "source": [
    "epochs = 10\n",
    "batch_size = 64\n",
    "verbose = 1\n",
    "\n",
    "losses = []\n",
    "val_losses = []\n",
    "    \n",
    "for memory in tqdm(memory_variants):\n",
    "    result_desc = 'n{}_m{}'.format(*memory)\n",
    "    tqdm.write(result_desc)\n",
    "    \n",
    "    generator = Generator(config, memory_tuple=memory, base_path='../../training/', batch_size=batch_size, column_mode='steer', separate_files=True)\n",
    "    frame_shape, numeric_shape, diff_shape = generator.get_shapes()\n",
    "\n",
    "    mlp = create_mlp(input_shape=numeric_shape)\n",
    "    cnn = create_cnn(input_shape=frame_shape)\n",
    "    multi = create_multi_model(mlp, cnn, output_shape=diff_shape)\n",
    "\n",
    "    hist = multi.fit(generator.generate(data='train'),\n",
    "                     steps_per_epoch=generator.train_batch_count,\n",
    "                     validation_data=generator.generate(data='test'),\n",
    "                     validation_steps=generator.test_batch_count,\n",
    "                     epochs=epochs, verbose=verbose)\n",
    "\n",
    "    model_file_prefix = 'model_n{}_m{}'.format(*memory)\n",
    "    model_file_suffix = '_{}.{}'\n",
    "\n",
    "    count = len([fn for fn in os.listdir(model_path) if fn.startswith(model_file_prefix) and fn.endswith('.h5')])\n",
    "    plot_model(multi, to_file=model_path + model_file_prefix + model_file_suffix.format(count + 1, 'png'))\n",
    "    multi.save(model_path + model_file_prefix + model_file_suffix.format(count + 1, 'h5'))\n",
    "    \n",
    "    current_loss = hist.history['loss']\n",
    "    current_val_loss = hist.history['val_loss'] \n",
    "    \n",
    "    losses.append(current_loss)\n",
    "    val_losses.append(current_val_loss)\n",
    "    \n",
    "    tqdm.write(\"Loss per epoch: {}\".format(current_loss))\n",
    "    tqdm.write(\"Validation loss per epoch: {}\".format(current_val_loss))\n",
    "    \n",
    "    gc.collect()"
   ]
  },
  {
   "cell_type": "code",
   "execution_count": null,
   "metadata": {},
   "outputs": [],
   "source": [
    "loss_data = []\n",
    "val_loss_data = []\n",
    "\n",
    "for i in range(0, len(losses)):\n",
    "    val_loss_data.append({'data': val_losses[i], 'label': key, 'alpha': 1.0})\n",
    "    loss_data.append({'data': losses[i], 'label': key, 'alpha': 1.0})\n",
    "        \n",
    "plot_stuff(\"val losses\", val_loss_data, figsize=(10, 14))\n",
    "plot_stuff(\"losses\", loss_data, figsize=(10, 14))"
   ]
  },
  {
   "cell_type": "code",
   "execution_count": null,
   "metadata": {},
   "outputs": [],
   "source": [
    "import tensorflow as tf\n",
    "\n",
    "generator = Generator(config, memory_tuple=spec_memory, base_path='../../training/', column_mode='steer', separate_files=True)\n",
    "frame_shape, numeric_shape, diff_shape = generator.get_shapes()\n",
    "\n",
    "super_shapes = ((frame_shape, numeric_shape), diff_shape)\n",
    "print(super_shapes)\n",
    "train_dataset = tf.data.Dataset.from_generator(generator.generate_single_train, output_types=(np.float32, np.float32))\n",
    "train_dataset = train_dataset.batch(batch_size=64)\n",
    "train_dataset = train_dataset.shuffle(buffer_size=1000)\n",
    "\n",
    "val_dataset = tf.data.Dataset.from_generator(generator.generate_single_test, (np.float32, np.float32))\n",
    "val_dataset = val_dataset.batch(batch_size=64)\n",
    "val_dataset = val_dataset.shuffle(buffer_size=1000)\n",
    "\n",
    "mlp = create_mlp(input_shape=numeric_shape)\n",
    "cnn = create_cnn(input_shape=frame_shape)\n",
    "multi = create_multi_model(mlp, cnn, output_shape=diff_shape)\n",
    "\n",
    "hist = multi.fit_generator(train_dataset,\n",
    "                 steps_per_epoch=generator.train_batch_count,\n",
    "                 validation_data=val_dataset,\n",
    "                 validation_steps=generator.test_batch_count,\n",
    "                 epochs=10, verbose=1)"
   ]
  }
 ],
 "metadata": {
  "kernelspec": {
   "display_name": "Python 3",
   "language": "python",
   "name": "python3"
  },
  "language_info": {
   "codemirror_mode": {
    "name": "ipython",
    "version": 3
   },
   "file_extension": ".py",
   "mimetype": "text/x-python",
   "name": "python",
   "nbconvert_exporter": "python",
   "pygments_lexer": "ipython3",
   "version": "3.7.4"
  },
  "pycharm": {
   "stem_cell": {
    "cell_type": "raw",
    "metadata": {
     "collapsed": false
    },
    "source": []
   }
  }
 },
 "nbformat": 4,
 "nbformat_minor": 2
}
