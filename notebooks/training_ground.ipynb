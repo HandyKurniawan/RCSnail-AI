{
 "cells": [
  {
   "cell_type": "code",
   "execution_count": 1,
   "metadata": {},
   "outputs": [],
   "source": [
    "%matplotlib inline\n",
    "import numpy as np\n",
    "import matplotlib.pyplot as plt\n",
    "import pandas as pd\n",
    "from sklearn.model_selection import train_test_split\n",
    "\n",
    "import os\n",
    "import sys\n",
    "module_path = os.path.abspath(os.path.join('..'))\n",
    "if module_path not in sys.path:\n",
    "    sys.path.append(module_path)\n",
    "\n",
    "from commons.configuration_manager import ConfigurationManager\n",
    "from src.learning.training.training_transformer import TrainingTransformer\n",
    "from src.learning.training.label_collector import LabelCollector\n",
    "from src.learning.training.training_file_reader import TrainingFileReader\n",
    "from src.learning.models import create_cnn, create_mlp, create_multi_model\n",
    "\n",
    "config_manager = ConfigurationManager()\n",
    "config = config_manager.config\n",
    "\n",
    "reader = TrainingFileReader(path_to_training='../../training/laps/')\n",
    "transformer = TrainingTransformer(config)\n",
    "collector = LabelCollector()\n",
    "\n",
    "def memory_creator(new_frame, memory, length=4, interval=2):\n",
    "    memory.append(new_frame)\n",
    "    \n",
    "    near_memory = memory[::-interval]\n",
    "    if len(near_memory) < length:\n",
    "        return None\n",
    "    \n",
    "    if len(memory) >= length * interval:\n",
    "        memory.pop(0)\n",
    "        \n",
    "    return np.concatenate(near_memory, axis=2)\n",
    "\n",
    "filename = 'lap_6_2020_01_24'"
   ]
  },
  {
   "cell_type": "code",
   "execution_count": 2,
   "metadata": {},
   "outputs": [
    {
     "name": "stdout",
     "output_type": "stream",
     "text": [
      "(6578, 40, 60, 3)\n",
      "(6578, 4)\n",
      "['cg' 'cs' 'ct' 'cb']\n",
      "(6578, 4)\n",
      "['d_gear' 'd_steering' 'd_throttle' 'd_braking']\n"
     ]
    }
   ],
   "source": [
    "df = reader.read_telemetry_as_csv(filename + '.csv')\n",
    "telemetry = collector.collect_numeric_inputs(df)\n",
    "diffs = collector.collect_expert_labels(df)\n",
    "\n",
    "frames = reader.read_training_video(filename + '.avi')\n",
    "resized_frames_np = transformer.resize_video_for_training(frames)\n",
    "    \n",
    "print(resized_frames_np.shape)\n",
    "print(telemetry.shape)\n",
    "print(telemetry.columns.values)\n",
    "print(diffs.shape)\n",
    "print(diffs.columns.values)\n",
    "\n",
    "telemetry_np = telemetry.to_numpy()\n",
    "diffs_np = diffs.to_numpy()\n",
    "\n",
    "frames_train, frames_test, telemetry_train, telemetry_test, diffs_train, diffs_test = train_test_split(resized_frames_np, telemetry_np, diffs_np, test_size=0.2)"
   ]
  },
  {
   "cell_type": "code",
   "execution_count": 3,
   "metadata": {},
   "outputs": [],
   "source": [
    "def prep_mem_datas(telemetry, diffs, resized_frames_np, length, interval):\n",
    "    mem_telemetry = telemetry\n",
    "    mem_diffs = diffs\n",
    "\n",
    "    memory = []\n",
    "    mem_frames = []\n",
    "    for frame in resized_frames_np:\n",
    "        mem_frame = memory_creator(frame, memory, length=length, interval=interval)\n",
    "\n",
    "        if mem_frame is not None:\n",
    "            mem_frames.append(mem_frame)\n",
    "\n",
    "    mem_frames_np = np.array(mem_frames)\n",
    "\n",
    "    len_diff = mem_telemetry.shape[0] - mem_frames_np.shape[0]\n",
    "    if len_diff > 0:\n",
    "        mem_telemetry = mem_telemetry.iloc[len_diff:]\n",
    "        mem_diffs = mem_diffs.iloc[len_diff:]\n",
    "    \n",
    "    mem_telemetry_np = mem_telemetry.to_numpy()\n",
    "    mem_diffs_np = mem_diffs.to_numpy()\n",
    "\n",
    "    return mem_frames_np, mem_telemetry_np, mem_diffs_np"
   ]
  },
  {
   "cell_type": "code",
   "execution_count": 5,
   "metadata": {},
   "outputs": [
    {
     "ename": "KeyboardInterrupt",
     "evalue": "",
     "output_type": "error",
     "traceback": [
      "\u001b[0;31m---------------------------------------------------------------------------\u001b[0m",
      "\u001b[0;31mKeyboardInterrupt\u001b[0m                         Traceback (most recent call last)",
      "\u001b[0;32m<ipython-input-5-5010f73c49f4>\u001b[0m in \u001b[0;36m<module>\u001b[0;34m\u001b[0m\n\u001b[1;32m      7\u001b[0m \u001b[0;34m\u001b[0m\u001b[0m\n\u001b[1;32m      8\u001b[0m \u001b[0;32mfor\u001b[0m \u001b[0mexperiment\u001b[0m \u001b[0;32min\u001b[0m \u001b[0mexperiments\u001b[0m\u001b[0;34m:\u001b[0m\u001b[0;34m\u001b[0m\u001b[0;34m\u001b[0m\u001b[0m\n\u001b[0;32m----> 9\u001b[0;31m     \u001b[0mdatas_list\u001b[0m\u001b[0;34m.\u001b[0m\u001b[0mappend\u001b[0m\u001b[0;34m(\u001b[0m\u001b[0mprep_mem_datas\u001b[0m\u001b[0;34m(\u001b[0m\u001b[0mtelemetry\u001b[0m\u001b[0;34m,\u001b[0m \u001b[0mdiffs\u001b[0m\u001b[0;34m,\u001b[0m \u001b[0mresized_frames_np\u001b[0m\u001b[0;34m,\u001b[0m \u001b[0;34m*\u001b[0m\u001b[0mexperiment\u001b[0m\u001b[0;34m)\u001b[0m\u001b[0;34m)\u001b[0m\u001b[0;34m\u001b[0m\u001b[0;34m\u001b[0m\u001b[0m\n\u001b[0m\u001b[1;32m     10\u001b[0m \u001b[0;34m\u001b[0m\u001b[0m\n\u001b[1;32m     11\u001b[0m \u001b[0;32mfor\u001b[0m \u001b[0mdata\u001b[0m \u001b[0;32min\u001b[0m \u001b[0mdatas_list\u001b[0m\u001b[0;34m:\u001b[0m\u001b[0;34m\u001b[0m\u001b[0;34m\u001b[0m\u001b[0m\n",
      "\u001b[0;32m<ipython-input-3-bbfaa030db7b>\u001b[0m in \u001b[0;36mprep_mem_datas\u001b[0;34m(telemetry, diffs, resized_frames_np, length, interval)\u001b[0m\n\u001b[1;32m      6\u001b[0m     \u001b[0mmem_frames\u001b[0m \u001b[0;34m=\u001b[0m \u001b[0;34m[\u001b[0m\u001b[0;34m]\u001b[0m\u001b[0;34m\u001b[0m\u001b[0;34m\u001b[0m\u001b[0m\n\u001b[1;32m      7\u001b[0m     \u001b[0;32mfor\u001b[0m \u001b[0mframe\u001b[0m \u001b[0;32min\u001b[0m \u001b[0mresized_frames_np\u001b[0m\u001b[0;34m:\u001b[0m\u001b[0;34m\u001b[0m\u001b[0;34m\u001b[0m\u001b[0m\n\u001b[0;32m----> 8\u001b[0;31m         \u001b[0mmem_frame\u001b[0m \u001b[0;34m=\u001b[0m \u001b[0mmemory_creator\u001b[0m\u001b[0;34m(\u001b[0m\u001b[0mframe\u001b[0m\u001b[0;34m,\u001b[0m \u001b[0mmemory\u001b[0m\u001b[0;34m,\u001b[0m \u001b[0mlength\u001b[0m\u001b[0;34m=\u001b[0m\u001b[0mlength\u001b[0m\u001b[0;34m,\u001b[0m \u001b[0minterval\u001b[0m\u001b[0;34m=\u001b[0m\u001b[0minterval\u001b[0m\u001b[0;34m)\u001b[0m\u001b[0;34m\u001b[0m\u001b[0;34m\u001b[0m\u001b[0m\n\u001b[0m\u001b[1;32m      9\u001b[0m \u001b[0;34m\u001b[0m\u001b[0m\n\u001b[1;32m     10\u001b[0m         \u001b[0;32mif\u001b[0m \u001b[0mmem_frame\u001b[0m \u001b[0;32mis\u001b[0m \u001b[0;32mnot\u001b[0m \u001b[0;32mNone\u001b[0m\u001b[0;34m:\u001b[0m\u001b[0;34m\u001b[0m\u001b[0;34m\u001b[0m\u001b[0m\n",
      "\u001b[0;32m<ipython-input-1-335227a0c43a>\u001b[0m in \u001b[0;36mmemory_creator\u001b[0;34m(new_frame, memory, length, interval)\u001b[0m\n\u001b[1;32m     34\u001b[0m         \u001b[0mmemory\u001b[0m\u001b[0;34m.\u001b[0m\u001b[0mpop\u001b[0m\u001b[0;34m(\u001b[0m\u001b[0;36m0\u001b[0m\u001b[0;34m)\u001b[0m\u001b[0;34m\u001b[0m\u001b[0;34m\u001b[0m\u001b[0m\n\u001b[1;32m     35\u001b[0m \u001b[0;34m\u001b[0m\u001b[0m\n\u001b[0;32m---> 36\u001b[0;31m     \u001b[0;32mreturn\u001b[0m \u001b[0mnp\u001b[0m\u001b[0;34m.\u001b[0m\u001b[0mconcatenate\u001b[0m\u001b[0;34m(\u001b[0m\u001b[0mnear_memory\u001b[0m\u001b[0;34m,\u001b[0m \u001b[0maxis\u001b[0m\u001b[0;34m=\u001b[0m\u001b[0;36m2\u001b[0m\u001b[0;34m)\u001b[0m\u001b[0;34m\u001b[0m\u001b[0;34m\u001b[0m\u001b[0m\n\u001b[0m\u001b[1;32m     37\u001b[0m \u001b[0;34m\u001b[0m\u001b[0m\n\u001b[1;32m     38\u001b[0m \u001b[0mfilename\u001b[0m \u001b[0;34m=\u001b[0m \u001b[0;34m'lap_6_2020_01_24'\u001b[0m\u001b[0;34m\u001b[0m\u001b[0;34m\u001b[0m\u001b[0m\n",
      "\u001b[0;31mKeyboardInterrupt\u001b[0m: "
     ]
    }
   ],
   "source": [
    "epochs = 6\n",
    "batch_size = 32\n",
    "verbose = 0\n",
    "\n",
    "experiments = [(1, 1), (4, 1), (4, 4), (4, 8), (4, 12), (6, 4), (6, 8), (6, 12)]\n",
    "datas_list = []\n",
    "results = []\n",
    "\n",
    "for experiment in experiments:\n",
    "    datas_list.append(prep_mem_datas(telemetry, diffs, resized_frames_np, *experiment))\n",
    "\n",
    "for data in datas_list:\n",
    "    result_desc = \"Memory: N={}, M={}\".format(*experiments[datas_list.index(data)])\n",
    "    print(result_desc)\n",
    "    \n",
    "    frames_train, frames_test, telemetry_train, telemetry_test, diffs_train, diffs_test = train_test_split(*data, test_size=0.2)\n",
    "    \n",
    "    losses = []\n",
    "    val_losses = []\n",
    "    for i in range(0, 10):\n",
    "        mlp = create_mlp()\n",
    "        cnn = create_cnn(input_shape=frames_train[0].shape)\n",
    "        multi = create_multi_model(mlp, cnn)\n",
    "    \n",
    "        hist = multi.fit([telemetry_train, frames_train], diffs_train,\n",
    "                        validation_data=([telemetry_test, frames_test], diffs_test),\n",
    "                        epochs=epochs, batch_size=batch_size, verbose=verbose)\n",
    "        \n",
    "        losses.append(hist.history['loss'])\n",
    "        val_losses.append(hist.history['val_loss'])\n",
    "    \n",
    "    mean_losses = [np.mean(i) for i in zip(*losses)]\n",
    "    mean_val_losses = [np.mean(i) for i in zip(*val_losses)]\n",
    "    \n",
    "    results[result_desc] = mean_val_losses\n",
    "    \n",
    "    print(\"Mean loss per epoch: {}\".format(mean_losses))\n",
    "    print(\"Mean validation loss per epoch: {}\".format(mean_val_losses))\n",
    "    print(\"\\n\")"
   ]
  },
  {
   "cell_type": "code",
   "execution_count": null,
   "metadata": {},
   "outputs": [],
   "source": [
    "mlp = create_mlp()\n",
    "cnn = create_cnn(input_shape=frames_train[0].shape)\n",
    "multi = create_multi_model(mlp, cnn)\n",
    "#multi.summary()\n",
    "\n",
    "multi.fit([telemetry_train, frames_train], diffs_train,\n",
    "                validation_data=([telemetry_test, frames_test], diffs_test),\n",
    "                epochs=epochs,\n",
    "                batch_size=batch_size,\n",
    "                verbose=verbose)"
   ]
  }
 ],
 "metadata": {
  "kernelspec": {
   "display_name": "Python 3",
   "language": "python",
   "name": "python3"
  },
  "language_info": {
   "codemirror_mode": {
    "name": "ipython",
    "version": 3
   },
   "file_extension": ".py",
   "mimetype": "text/x-python",
   "name": "python",
   "nbconvert_exporter": "python",
   "pygments_lexer": "ipython3",
   "version": "3.7.4"
  }
 },
 "nbformat": 4,
 "nbformat_minor": 2
}
