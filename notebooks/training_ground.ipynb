{
 "cells": [
  {
   "cell_type": "code",
   "execution_count": 1,
   "metadata": {},
   "outputs": [
    {
     "data": {
      "text/html": [
       "\n",
       "<style>\n",
       "    div#notebook-container    { width: 75%; }\n",
       "</style>\n"
      ],
      "text/plain": [
       "<IPython.core.display.HTML object>"
      ]
     },
     "metadata": {},
     "output_type": "display_data"
    }
   ],
   "source": [
    "from IPython.display import display, HTML\n",
    "\n",
    "display(HTML(data=\"\"\"\n",
    "<style>\n",
    "    div#notebook-container    { width: 75%; }\n",
    "</style>\n",
    "\"\"\"))"
   ]
  },
  {
   "cell_type": "code",
   "execution_count": 2,
   "metadata": {},
   "outputs": [],
   "source": [
    "%matplotlib inline\n",
    "import os\n",
    "import sys\n",
    "import gc\n",
    "import time\n",
    "from tqdm.notebook import tqdm\n",
    "\n",
    "import numpy as np\n",
    "import matplotlib.pyplot as plt\n",
    "from sklearn.model_selection import train_test_split\n",
    "from tensorflow.keras.utils import plot_model\n",
    "\n",
    "module_path = os.path.abspath(os.path.join('..'))\n",
    "if module_path not in sys.path:\n",
    "    sys.path.append(module_path)\n",
    "\n",
    "from commons.configuration_manager import ConfigurationManager\n",
    "from src.utilities.transformer import Transformer\n",
    "from src.learning.training.generator import Generator, GenFiles\n",
    "from src.learning.models import create_nvidia_cnn, create_mlp, \\\n",
    "                                create_standalone_nvidia_cnn, create_standalone_resnet, \\\n",
    "                                create_multi_model_2, create_multi_model_3, create_multi_cnn"
   ]
  },
  {
   "cell_type": "code",
   "execution_count": 16,
   "metadata": {},
   "outputs": [],
   "source": [
    "def plot_stuff(title, plot_elem, figsize=(18, 10)):\n",
    "    fig=plt.figure(figsize=figsize)\n",
    "    plt.title(title)\n",
    "    plt.ylabel('Loss')\n",
    "    plt.xlabel('Epoch')\n",
    "    #x = np.arange(0, len(plot_elems[0]['data']), 1)\n",
    "    \n",
    "    #for plot_elem in plot_elems:\n",
    "    #    plt.errorbar(x, plot_elem['data'], yerr=plot_elem['error'], label=plot_elem['label'], alpha=plot_elem['alpha'], fmt='-o', capsize=5)\n",
    "    \n",
    "    plt.plot(plot_elem['data'])\n",
    "    plt.grid(axis='x')\n",
    "    plt.legend(loc='best', prop={'size': 15})\n",
    "    plt.show()\n",
    "    plt.savefig('./' + title + '.png')\n",
    "    \n",
    "def get_model_num(model_path, model_prefix):\n",
    "    model_files = [fn for fn in os.listdir(model_path) if fn.startswith(model_prefix) and fn.endswith('.h5') and 'dagger_' not in fn]\n",
    "    # expected format is \"model_n1_m1_9.h5\"\n",
    "    existing_nums = [int(fn.split('_')[3].split('.')[0]) for fn in model_files]\n",
    "    \n",
    "    if len(existing_nums) == 0:\n",
    "        return 1\n",
    "    else:\n",
    "        latest_num = sorted(existing_nums)[-1]\n",
    "        return int(latest_num) + 1"
   ]
  },
  {
   "cell_type": "code",
   "execution_count": 4,
   "metadata": {},
   "outputs": [],
   "source": [
    "config_manager = ConfigurationManager()\n",
    "config = config_manager.config\n",
    "\n",
    "memory_variants = [(1, 1), (2, 1), (2, 2), (4, 1), (4, 2), (6, 1), (6, 2)]\n",
    "memory_variants = memory_variants[:1]\n",
    "memory = memory_variants[0]\n",
    "\n",
    "model_path = '../../training/models/'"
   ]
  },
  {
   "cell_type": "code",
   "execution_count": null,
   "metadata": {},
   "outputs": [],
   "source": [
    "# Model experiments\n",
    "\n",
    "epochs = 6\n",
    "batch_size = 32\n",
    "verbose = 1\n",
    "\n",
    "losses = []\n",
    "val_losses = []\n",
    "\n",
    "generator = Generator(config, memory_tuple=memory, base_path='../../training/', batch_size=batch_size, column_mode='steer')\n",
    "frame_shape, numeric_shape, diff_shape = generator.get_shapes()\n",
    "tqdm.write('Target shape: {}'.format(diff_shape))\n",
    "tqdm.write('Input shapes: {}; {}'.format(frame_shape, numeric_shape))\n",
    "\n",
    "models = []\n",
    "\n",
    "#mlp = create_mlp(input_shape=numeric_shape)\n",
    "#cnn = create_cnn_nvidia(input_shape=frame_shape)\n",
    "#models.append((create_multi_model_3(mlp, cnn, output_shape=diff_shape), generator.generate_with_numeric))\n",
    "\n",
    "for model, generate_method in tqdm(models):\n",
    "    result_desc = 'n{}_m{}'.format(*memory)\n",
    "    tqdm.write(result_desc)\n",
    "\n",
    "    hist = model.fit(generate_method(data='train'),\n",
    "                     steps_per_epoch=generator.train_batch_count,\n",
    "                     validation_data=generate_method(data='test'),\n",
    "                     validation_steps=generator.test_batch_count,\n",
    "                     epochs=epochs, verbose=verbose)\n",
    "\n",
    "    model_file_prefix = 'model_n{}_m{}'.format(*memory)\n",
    "    model_file_suffix = '_{}.{}'\n",
    "\n",
    "    model_number = get_model_num(model_path, model_file_prefix)\n",
    "    plot_model(model, to_file=model_path + model_file_prefix + model_file_suffix.format(model_number, 'png'), show_shapes=True)\n",
    "    model.save(model_path + model_file_prefix + model_file_suffix.format(model_number, 'h5'))\n",
    "    \n",
    "    current_loss = hist.history['loss']\n",
    "    current_val_loss = hist.history['val_loss'] \n",
    "    \n",
    "    losses.append(current_loss)\n",
    "    val_losses.append(current_val_loss)\n",
    "    \n",
    "    tqdm.write(\"Loss per epoch: {}\".format(current_loss))\n",
    "    tqdm.write(\"Validation loss per epoch: {}\".format(current_val_loss))\n",
    "    \n",
    "    gc.collect()\n",
    "\n",
    "os.system(\"printf '\\a'\")"
   ]
  },
  {
   "cell_type": "code",
   "execution_count": 5,
   "metadata": {},
   "outputs": [
    {
     "data": {
      "application/vnd.jupyter.widget-view+json": {
       "model_id": "c8c16494a8c64c74aa74eda5ea934a2e",
       "version_major": 2,
       "version_minor": 0
      },
      "text/plain": [
       "HBox(children=(FloatProgress(value=0.0, max=1.0), HTML(value='')))"
      ]
     },
     "metadata": {},
     "output_type": "display_data"
    },
    {
     "name": "stdout",
     "output_type": "stream",
     "text": [
      "n1_m1\n",
      "Target shape: 2\n",
      "Input shapes: (50, 180, 3); (2,)\n",
      "WARNING:tensorflow:sample_weight modes were coerced from\n",
      "  ...\n",
      "    to  \n",
      "  ['...']\n",
      "WARNING:tensorflow:sample_weight modes were coerced from\n",
      "  ...\n",
      "    to  \n",
      "  ['...']\n",
      "Train for 11677 steps, validate for 2919 steps\n",
      "Epoch 1/15\n",
      "11677/11677 [==============================] - 650s 56ms/step - loss: 0.3535 - val_loss: 0.2621\n",
      "Epoch 2/15\n",
      "11677/11677 [==============================] - 668s 57ms/step - loss: 0.2509 - val_loss: 0.2432\n",
      "Epoch 3/15\n",
      "11677/11677 [==============================] - 651s 56ms/step - loss: 0.2416 - val_loss: 0.2420\n",
      "Epoch 4/15\n",
      "11677/11677 [==============================] - 652s 56ms/step - loss: 0.2380 - val_loss: 0.2360\n",
      "Epoch 5/15\n",
      "11677/11677 [==============================] - 651s 56ms/step - loss: 0.2359 - val_loss: 0.2327\n",
      "Epoch 6/15\n",
      "11677/11677 [==============================] - 652s 56ms/step - loss: 0.2348 - val_loss: 0.2341\n",
      "Epoch 7/15\n",
      "11677/11677 [==============================] - 654s 56ms/step - loss: 0.2339 - val_loss: 0.2326\n",
      "Epoch 8/15\n",
      "11677/11677 [==============================] - 669s 57ms/step - loss: 0.2336 - val_loss: 0.2330\n",
      "Epoch 9/15\n",
      "11677/11677 [==============================] - 655s 56ms/step - loss: 0.2329 - val_loss: 0.2337\n",
      "Epoch 10/15\n",
      "11677/11677 [==============================] - 658s 56ms/step - loss: 0.2325 - val_loss: 0.2329\n",
      "Epoch 11/15\n",
      "11677/11677 [==============================] - 689s 59ms/step - loss: 0.2321 - val_loss: 0.2328\n",
      "Epoch 12/15\n",
      "11677/11677 [==============================] - 660s 56ms/step - loss: 0.2317 - val_loss: 0.2308\n",
      "Epoch 13/15\n",
      "11677/11677 [==============================] - 637s 55ms/step - loss: 0.2315 - val_loss: 0.2312\n",
      "Epoch 14/15\n",
      "11677/11677 [==============================] - 641s 55ms/step - loss: 0.2313 - val_loss: 0.2339\n",
      "Epoch 15/15\n",
      "11677/11677 [==============================] - 672s 58ms/step - loss: 0.2310 - val_loss: 0.2285\n",
      "Loss per epoch: [0.3534500832882627, 0.25087797854864874, 0.24161430629054967, 0.23801733895535235, 0.2359331727278011, 0.2348304673910672, 0.23394878509289252, 0.23359962842144297, 0.23288726846965768, 0.2324883611967703, 0.23205327039647206, 0.2317234031218642, 0.23150028045265053, 0.23134736892978366, 0.23102737376188043]\n",
      "Validation loss per epoch: [0.26208932510423677, 0.2431999818281835, 0.2419706503846295, 0.23596142043026802, 0.23266474507511703, 0.23412484373181353, 0.2326298898092971, 0.23301200696808624, 0.23368331607215492, 0.23286442807803787, 0.23275732213542574, 0.23076997644262554, 0.2311641180217164, 0.23385834362601612, 0.22848430069169184]\n",
      "\n"
     ]
    },
    {
     "data": {
      "text/plain": [
       "0"
      ]
     },
     "execution_count": 5,
     "metadata": {},
     "output_type": "execute_result"
    }
   ],
   "source": [
    "# Memory experiments on steering + throttle models\n",
    "\n",
    "epochs = 15\n",
    "batch_size = 32\n",
    "verbose = 1\n",
    "\n",
    "losses = []\n",
    "val_losses = []\n",
    "    \n",
    "for memory in tqdm(memory_variants):\n",
    "    result_desc = 'n{}_m{}'.format(*memory)\n",
    "    tqdm.write(result_desc)\n",
    "    \n",
    "    generator = Generator(config, memory_tuple=memory, base_path='../../training/', batch_size=batch_size, column_mode='steer')\n",
    "    frame_shape, numeric_shape, diff_shape = generator.get_shapes()\n",
    "    tqdm.write('Target shape: {}'.format(diff_shape))\n",
    "    tqdm.write('Input shapes: {}; {}'.format(frame_shape, numeric_shape))\n",
    "    \n",
    "    model = create_standalone_nvidia_cnn(activation='linear', input_shape=frame_shape, output_shape=diff_shape)\n",
    "    #model = create_standalone_resnet(activation='linear', input_shape=frame_shape, output_shape=diff_shape)\n",
    "    \n",
    "    #mlp = create_mlp(input_shape=numeric_shape)\n",
    "    #cnn = create_nvidia_cnn(input_shape=frame_shape)\n",
    "    #model = create_multi_model_3(mlp, cnn, output_shape=diff_shape)\n",
    "\n",
    "    hist = model.fit(generator.generate_with_numeric(data='train'),\n",
    "                     steps_per_epoch=generator.train_batch_count,\n",
    "                     validation_data=generator.generate_with_numeric(data='test'),\n",
    "                     validation_steps=generator.test_batch_count,\n",
    "                     epochs=epochs, verbose=verbose)\n",
    "\n",
    "    model_file_prefix = 'model_n{}_m{}'.format(*memory)\n",
    "    model_file_suffix = '_{}.{}'\n",
    "\n",
    "    model_number = get_model_num(model_path, model_file_prefix)\n",
    "    plot_model(model, to_file=model_path + model_file_prefix + model_file_suffix.format(model_number, 'png'), show_shapes=True)\n",
    "    model.save(model_path + model_file_prefix + model_file_suffix.format(model_number, 'h5'))\n",
    "    \n",
    "    current_loss = hist.history['loss']\n",
    "    current_val_loss = hist.history['val_loss'] \n",
    "    \n",
    "    losses.append(current_loss)\n",
    "    val_losses.append(current_val_loss)\n",
    "    \n",
    "    tqdm.write(\"Loss per epoch: {}\".format(current_loss))\n",
    "    tqdm.write(\"Validation loss per epoch: {}\".format(current_val_loss))\n",
    "    \n",
    "    gc.collect()\n",
    "    \n",
    "os.system(\"printf '\\a'\")"
   ]
  },
  {
   "cell_type": "code",
   "execution_count": null,
   "metadata": {},
   "outputs": [],
   "source": [
    "# Memory experiments on gear models\n",
    "\n",
    "epochs = 5\n",
    "batch_size = 32\n",
    "verbose = 1\n",
    "\n",
    "gear_losses = []\n",
    "gear_val_losses = []\n",
    "    \n",
    "for memory in tqdm(memory_variants):\n",
    "    result_desc = 'n{}_m{}'.format(*memory)\n",
    "    tqdm.write(result_desc)\n",
    "    \n",
    "    generator = Generator(config, memory_tuple=memory, base_path='../../training/', batch_size=batch_size, column_mode='all')\n",
    "    frame_shape, numeric_shape, diff_shape = generator.get_shapes()\n",
    "    tqdm.write('Target shape: {}'.format(diff_shape))\n",
    "    tqdm.write('Input shapes: {}; {}'.format(frame_shape, numeric_shape))\n",
    "    \n",
    "    mlp = create_mlp(input_shape=numeric_shape)\n",
    "    cnn = create_cnn_nvidia(input_shape=frame_shape)\n",
    "    gear_model = create_multi_model_2(mlp, cnn, output_shape=2)\n",
    "\n",
    "    hist = gear_model.fit(generator.generate_with_numeric(data='train'),\n",
    "                          steps_per_epoch=generator.train_batch_count,\n",
    "                          validation_data=generator.generate_with_numeric(data='test'),\n",
    "                          validation_steps=generator.test_batch_count,\n",
    "                          epochs=epochs, verbose=verbose)\n",
    "\n",
    "    model_file_prefix = 'gear_model_n{}_m{}'.format(*memory)\n",
    "    model_file_suffix = '_{}.{}'\n",
    "\n",
    "    model_number = get_model_num(model_path, model_file_prefix)\n",
    "    plot_model(gear_model, to_file=model_path + model_file_prefix + model_file_suffix.format(model_number, 'png'), show_shapes=True)\n",
    "    gear_model.save(model_path + model_file_prefix + model_file_suffix.format(model_number, 'h5'))\n",
    "    \n",
    "    current_loss = hist.history['loss']\n",
    "    current_val_loss = hist.history['val_loss'] \n",
    "    \n",
    "    gear_losses.append(current_loss)\n",
    "    gear_val_losses.append(current_val_loss)\n",
    "    \n",
    "    tqdm.write(\"Loss per epoch: {}\".format(current_loss))\n",
    "    tqdm.write(\"Validation loss per epoch: {}\".format(current_val_loss))\n",
    "    \n",
    "    gc.collect()"
   ]
  },
  {
   "cell_type": "code",
   "execution_count": 20,
   "metadata": {},
   "outputs": [
    {
     "name": "stderr",
     "output_type": "stream",
     "text": [
      "No handles with labels found to put in legend.\n"
     ]
    },
    {
     "name": "stdout",
     "output_type": "stream",
     "text": [
      "[0.26208932510423677, 0.2431999818281835, 0.2419706503846295, 0.23596142043026802, 0.23266474507511703, 0.23412484373181353, 0.2326298898092971, 0.23301200696808624, 0.23368331607215492, 0.23286442807803787, 0.23275732213542574, 0.23076997644262554, 0.2311641180217164, 0.23385834362601612, 0.22848430069169184]\n",
      "[0.3534500832882627, 0.25087797854864874, 0.24161430629054967, 0.23801733895535235, 0.2359331727278011, 0.2348304673910672, 0.23394878509289252, 0.23359962842144297, 0.23288726846965768, 0.2324883611967703, 0.23205327039647206, 0.2317234031218642, 0.23150028045265053, 0.23134736892978366, 0.23102737376188043]\n"
     ]
    },
    {
     "data": {
      "image/png": "[encoded data removed]",
      "text/plain": [
       "<Figure size 720x432 with 1 Axes>"
      ]
     },
     "metadata": {
      "needs_background": "light"
     },
     "output_type": "display_data"
    },
    {
     "data": {
      "text/plain": [
       "<Figure size 432x288 with 0 Axes>"
      ]
     },
     "metadata": {},
     "output_type": "display_data"
    }
   ],
   "source": [
    "loss_data = []\n",
    "val_loss_data = []\n",
    "\n",
    "#for i in range(0, len(losses)):\n",
    "#    val_loss_data.append({'data': val_losses[i], 'label': key, 'alpha': 1.0})\n",
    "#    loss_data.append({'data': losses[i], 'label': key, 'alpha': 1.0})\n",
    "\n",
    "print(val_losses[0])\n",
    "print(losses[0])\n",
    "\n",
    "val_loss_data = {'data': val_losses[0], 'label': 'Validation loss', 'alpha': 1.0}\n",
    "plot_stuff('Validation', val_loss_data, figsize=(10, 6))"
   ]
  },
  {
   "cell_type": "code",
   "execution_count": 19,
   "metadata": {},
   "outputs": [
    {
     "name": "stderr",
     "output_type": "stream",
     "text": [
      "No handles with labels found to put in legend.\n"
     ]
    },
    {
     "data": {
      "image/png": "[encoded data removed]",
      "text/plain": [
       "<Figure size 720x432 with 1 Axes>"
      ]
     },
     "metadata": {
      "needs_background": "light"
     },
     "output_type": "display_data"
    },
    {
     "data": {
      "text/plain": [
       "<Figure size 432x288 with 0 Axes>"
      ]
     },
     "metadata": {},
     "output_type": "display_data"
    }
   ],
   "source": [
    "loss_data = {'data': losses[0], 'label': 'Loss', 'alpha': 1.0}\n",
    "plot_stuff('Training', loss_data, figsize=(10, 6))"
   ]
  },
  {
   "cell_type": "code",
   "execution_count": null,
   "metadata": {},
   "outputs": [],
   "source": [
    "import tensorflow as tf\n",
    "\n",
    "generator = Generator(config, memory_tuple=memory, base_path='../../training/', batch_size=32, column_mode='steer', separate_files=True)\n",
    "frame_shape, numeric_shape, diff_shape = generator.get_shapes()\n",
    "\n",
    "shapes = ([50, 180, 12], ())\n",
    "types = (np.float32, np.float32)\n",
    "\n",
    "train_dataset = tf.data.Dataset.from_generator(generator.generate_single_train, output_types=types, output_shapes=shapes)\n",
    "train_dataset = train_dataset.batch(batch_size=32)\n",
    "train_dataset = train_dataset.shuffle(buffer_size=10)\n",
    "\n",
    "val_dataset = tf.data.Dataset.from_generator(generator.generate_single_test, output_types=types, output_shapes=shapes)\n",
    "val_dataset = val_dataset.batch(batch_size=32)\n",
    "val_dataset = val_dataset.shuffle(buffer_size=10)\n",
    "\n",
    "model = create_cnn_alone(input_shape=frame_shape, output_shape=diff_shape)\n",
    "\n",
    "hist = model.fit(train_dataset,\n",
    "                 steps_per_epoch=generator.train_batch_count,\n",
    "                 validation_data=val_dataset,\n",
    "                 validation_steps=generator.test_batch_count,\n",
    "                 epochs=10, verbose=1)"
   ]
  }
 ],
 "metadata": {
  "kernelspec": {
   "display_name": "Python 3",
   "language": "python",
   "name": "python3"
  },
  "language_info": {
   "codemirror_mode": {
    "name": "ipython",
    "version": 3
   },
   "file_extension": ".py",
   "mimetype": "text/x-python",
   "name": "python",
   "nbconvert_exporter": "python",
   "pygments_lexer": "ipython3",
   "version": "3.7.6"
  },
  "pycharm": {
   "stem_cell": {
    "cell_type": "raw",
    "metadata": {
     "collapsed": false
    },
    "source": []
   }
  }
 },
 "nbformat": 4,
 "nbformat_minor": 2
}
