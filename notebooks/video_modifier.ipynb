{
 "cells": [
  {
   "cell_type": "code",
   "execution_count": 1,
   "metadata": {},
   "outputs": [],
   "source": [
    "%matplotlib inline\n",
    "import os\n",
    "import sys\n",
    "\n",
    "import cv2\n",
    "import numpy as np\n",
    "import matplotlib.pyplot as plt\n",
    "import pandas as pd\n",
    "from sklearn.model_selection import train_test_split\n",
    "\n",
    "module_path = os.path.abspath(os.path.join('..'))\n",
    "if module_path not in sys.path:\n",
    "    sys.path.append(module_path)\n",
    "\n",
    "from src.learning.training.training_file_reader import TrainingFileReader\n",
    "from commons.configuration_manager import ConfigurationManager\n",
    "from src.learning.training.training_transformer import TrainingTransformer"
   ]
  },
  {
   "cell_type": "code",
   "execution_count": 3,
   "metadata": {},
   "outputs": [],
   "source": [
    "def video_writer(frames, filepath, transformer):\n",
    "    out = cv2.VideoWriter(filepath + '_resized_normed.avi', cv2.VideoWriter_fourcc(*'DIVX'), 20, resolution)\n",
    "\n",
    "    for frame in frames:\n",
    "        out.write(transformer.resize_frame_for_training(frame).astype(np.uint8))\n",
    "    out.release()"
   ]
  },
  {
   "cell_type": "code",
   "execution_count": 6,
   "metadata": {},
   "outputs": [],
   "source": [
    "path_to_training = '../../training/laps/'\n",
    "filenames = ['lap_5_2020_01_24', 'lap_6_2020_01_24', 'lap_7_2020_01_24']\n",
    "filename = filenames[0]\n",
    "resolution = (60, 40)\n",
    "\n",
    "config_manager = ConfigurationManager()\n",
    "config = config_manager.config\n",
    "\n",
    "reader = TrainingFileReader(path_to_training=path_to_training)\n",
    "frames = reader.read_video(filename + '.avi')\n",
    "transformer = TrainingTransformer(config)\n",
    "\n",
    "video_writer(frames, path_to_training + filename, transformer)"
   ]
  }
 ],
 "metadata": {
  "kernelspec": {
   "display_name": "Python 3",
   "language": "python",
   "name": "python3"
  },
  "language_info": {
   "codemirror_mode": {
    "name": "ipython",
    "version": 3
   },
   "file_extension": ".py",
   "mimetype": "text/x-python",
   "name": "python",
   "nbconvert_exporter": "python",
   "pygments_lexer": "ipython3",
   "version": "3.7.4"
  }
 },
 "nbformat": 4,
 "nbformat_minor": 2
}
