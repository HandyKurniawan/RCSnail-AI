{
 "cells": [
  {
   "cell_type": "code",
   "execution_count": 1,
   "metadata": {},
   "outputs": [
    {
     "name": "stdout",
     "output_type": "stream",
     "text": [
      "pygame 1.9.6\n",
      "Hello from the pygame community. https://www.pygame.org/contribute.html\n"
     ]
    }
   ],
   "source": [
    "%matplotlib inline\n",
    "import os\n",
    "import sys\n",
    "import gc\n",
    "import time\n",
    "from tqdm.notebook import tqdm\n",
    "\n",
    "import numpy as np\n",
    "import matplotlib.pyplot as plt\n",
    "import pygame\n",
    "import cv2\n",
    "from sklearn.model_selection import train_test_split\n",
    "from tensorflow.keras.utils import plot_model\n",
    "\n",
    "module_path = os.path.abspath(os.path.join('..'))\n",
    "if module_path not in sys.path:\n",
    "    sys.path.append(module_path)\n",
    "\n",
    "from commons.configuration_manager import ConfigurationManager\n",
    "from src.learning.training.collector import Collector\n",
    "from src.learning.training.training_file_reader import TrainingFileReader\n",
    "from src.utilities.transformer import Transformer\n",
    "from notebooks.notebook_commons import read_stored_data_with_labels, read_stored_data_with_shifted_labels, create_memorized_dataset\n",
    "\n",
    "window_width = 500\n",
    "window_height = 200\n",
    "\n",
    "black = (0, 0, 0)\n",
    "white = (255, 255, 255)\n",
    "red = (255, 0, 0)\n",
    "green = (0, 255, 0)\n",
    "blue = (0, 0, 255)\n",
    "\n",
    "pygame.init()\n",
    "font = pygame.font.SysFont('Roboto', 20)"
   ]
  },
  {
   "cell_type": "code",
   "execution_count": 2,
   "metadata": {},
   "outputs": [],
   "source": [
    "def plot_stuff(title, plot_elems, figsize=(18, 10)):\n",
    "    fig=plt.figure(figsize=figsize)\n",
    "    plt.title(title)\n",
    "    #plt.ylabel('dunno')\n",
    "    plt.xlabel('Count')\n",
    "    \n",
    "    for plot_elem in plot_elems:\n",
    "        plt.plot(plot_elem['data'], label=plot_elem['label'], alpha=plot_elem['alpha'], fmt='-o')\n",
    "\n",
    "    plt.grid(axis='y')\n",
    "    plt.legend(loc='best')\n",
    "    plt.show()\n",
    "        \n",
    "def get_mem_dataset_with_full_video(filename, length, interval):\n",
    "    mem_frames_np, mem_telemetry_np, mem_diffs_np = create_memorized_dataset(*read_stored_data_with_labels(reader, transformer, filename, collector.steering_columns(), collector.diff_steering_columns()), length, interval)\n",
    "    view_frames_np = reader.read_video(filename + '.avi')[((length - 1) * interval):]\n",
    "    \n",
    "    assert view_frames_np.shape[0] == mem_frames_np.shape[0], \"Frames length mismatch!\"\n",
    "    assert mem_frames_np.shape[0] == mem_telemetry_np.shape[0] == mem_diffs_np.shape[0], \"Mem lengths differ!\"\n",
    "    return mem_frames_np, mem_telemetry_np, mem_diffs_np, view_frames_np\n",
    "\n",
    "def get_shifted_mem_dataset_with_full_video(filename, length, interval):\n",
    "    mem_frames_np, mem_telemetry_np, mem_diffs_np = create_memorized_dataset(*read_stored_data_with_shifted_labels(reader, transformer.cut_wide_and_normalize_video_shifted, filename, collector.steering_column(), collector.steering_column()), length, interval)\n",
    "    view_frames_np = reader.read_video(filename + '.avi')[((length - 1) * interval):-1]\n",
    "    \n",
    "    assert view_frames_np.shape[0] == mem_frames_np.shape[0], \"Frames length mismatch!\"\n",
    "    assert mem_frames_np.shape[0] == mem_telemetry_np.shape[0] == mem_diffs_np.shape[0], \"Mem lengths differ!\"\n",
    "    return mem_frames_np, mem_telemetry_np, mem_diffs_np, view_frames_np\n",
    "\n",
    "def validate_partial(memory, i):\n",
    "    memory_string = 'n{}_m{}'.format(*memory)\n",
    "    path = '../../training/' + memory_string + '/'\n",
    "\n",
    "    mem_frame = np.load(path + GenFiles.frame.format(memory_string, i)) * 255\n",
    "    return mem_frame.astype(np.uint8)[:,:,:3]"
   ]
  },
  {
   "cell_type": "code",
   "execution_count": 4,
   "metadata": {},
   "outputs": [
    {
     "name": "stdout",
     "output_type": "stream",
     "text": [
      "(2858, 60, 180, 3)\n",
      "(2858, 1)\n"
     ]
    }
   ],
   "source": [
    "config_manager = ConfigurationManager()\n",
    "config = config_manager.config\n",
    "\n",
    "reader = TrainingFileReader(path_to_training='../../training/validation_laps/')\n",
    "collector = Collector()\n",
    "\n",
    "validation_laps = ['validation_lap_1_2020_02_10', 'validation_lap_2_2020_02_10', 'bad_lap_1_2020_02_10', 'bad_lap_2_2020_02_17']\n",
    "memory_variants = [(1, 1), (4, 1), (4, 4), (8, 1), (8, 4), (12, 1)]\n",
    "memory = memory_variants[0]\n",
    "\n",
    "transformer = Transformer(config, memory_tuple=memory)\n",
    "\n",
    "mem_frames, mem_telems, mem_diffs, display_frames = get_shifted_mem_dataset_with_full_video(validation_laps[0], *memory)\n",
    "print(mem_frames.shape)\n",
    "print(mem_telems.shape)"
   ]
  },
  {
   "cell_type": "code",
   "execution_count": 5,
   "metadata": {},
   "outputs": [],
   "source": [
    "from tensorflow.keras.models import load_model\n",
    "multi = load_model('../../training/models/model_n{}_m{}_2.h5'.format(*memory))"
   ]
  },
  {
   "cell_type": "code",
   "execution_count": 6,
   "metadata": {},
   "outputs": [
    {
     "name": "stdout",
     "output_type": "stream",
     "text": [
      "0\n"
     ]
    }
   ],
   "source": [
    "pygame.display.init()\n",
    "pygame.display.set_caption(\"Prediction viewer\")\n",
    "screen = pygame.display.set_mode((window_width, window_height))\n",
    "\n",
    "try:\n",
    "    pred_smoothing = []\n",
    "    for i in range(0, display_frames.shape[0]):\n",
    "        frame = display_frames[i]\n",
    "        screen.fill(black)\n",
    "        \n",
    "        converted_telem = mem_telems[i][np.newaxis, :]\n",
    "        converted_frame = mem_frames[i].astype(np.float32)[np.newaxis, :]\n",
    "        \n",
    "        # gear, steering, throttle, braking\n",
    "        #predictions = multi.predict([converted_frame, converted_telem])[0]\n",
    "        predictions = multi.predict(converted_frame)[0]\n",
    "        predicted_steering = predictions[0]\n",
    "        \n",
    "        pred_steering_str = \"P: {0:.4f}\".format(predicted_steering)\n",
    "        if predicted_steering >= 0.0:\n",
    "            prediction_text = font.render(pred_steering_str, True, green)\n",
    "        else:\n",
    "            prediction_text = font.render(pred_steering_str, True, blue)\n",
    "        \n",
    "        actual_steering = mem_telems[i, 0]\n",
    "        actual_steering_str = \"T: {0:.4f}\".format(actual_steering)\n",
    "        if actual_steering >= 0.0:\n",
    "            actual_text = font.render(actual_steering_str, True, green)\n",
    "        else:\n",
    "            actual_text = font.render(actual_steering_str, True, blue)\n",
    "            \n",
    "        delta = actual_steering - predicted_steering\n",
    "        delta_str = \"D: {0:.4f}\".format(delta)\n",
    "        delta_text = font.render(delta_str, True, white)\n",
    "        \n",
    "        #frame = mem_frames[i][:,:,:3]\n",
    "        #frame = validate_partial(memory, i)\n",
    "        frame = np.rot90(frame)\n",
    "        surface = pygame.surfarray.make_surface(frame)\n",
    "        \n",
    "        x = (window_width - frame.shape[0]) // 2\n",
    "        y = 0\n",
    "        \n",
    "        #time.sleep(0.05)\n",
    "        screen.blit(prediction_text, (200, window_height - 75))\n",
    "        screen.blit(actual_text, (200, window_height - 45))\n",
    "        screen.blit(delta_text, (200, window_height - 15))\n",
    "        screen.blit(surface, (x, y))\n",
    "        pygame.display.update()\n",
    "\n",
    "        for event in pygame.event.get():\n",
    "            if event.type == pygame.KEYDOWN:\n",
    "                if event.key == pygame.K_ESCAPE:\n",
    "                    sys.exit(0)\n",
    "    pygame.display.quit()\n",
    "except (KeyboardInterrupt, SystemExit, Exception) as ex:\n",
    "    print(ex)\n",
    "    pygame.display.quit()"
   ]
  }
 ],
 "metadata": {
  "kernelspec": {
   "display_name": "Python 3",
   "language": "python",
   "name": "python3"
  },
  "language_info": {
   "codemirror_mode": {
    "name": "ipython",
    "version": 3
   },
   "file_extension": ".py",
   "mimetype": "text/x-python",
   "name": "python",
   "nbconvert_exporter": "python",
   "pygments_lexer": "ipython3",
   "version": "3.7.4"
  },
  "pycharm": {
   "stem_cell": {
    "cell_type": "raw",
    "metadata": {
     "collapsed": false
    },
    "source": []
   }
  }
 },
 "nbformat": 4,
 "nbformat_minor": 2
}
