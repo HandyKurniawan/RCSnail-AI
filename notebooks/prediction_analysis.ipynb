{
 "cells": [
  {
   "cell_type": "code",
   "execution_count": 1,
   "metadata": {},
   "outputs": [],
   "source": [
    "%matplotlib inline\n",
    "import os\n",
    "import sys\n",
    "import gc\n",
    "from tqdm.notebook import tqdm\n",
    "\n",
    "import numpy as np\n",
    "import matplotlib.pyplot as plt\n",
    "import pandas as pd\n",
    "from sklearn.model_selection import train_test_split\n",
    "\n",
    "module_path = os.path.abspath(os.path.join('..'))\n",
    "if module_path not in sys.path:\n",
    "    sys.path.append(module_path)\n",
    "\n",
    "from commons.configuration_manager import ConfigurationManager\n",
    "from src.learning.training.training_transformer import TrainingTransformer\n",
    "from src.learning.training.label_collector import LabelCollector\n",
    "from src.learning.training.training_file_reader import TrainingFileReader\n",
    "from src.learning.models import create_cnn, create_mlp, create_multi_model"
   ]
  },
  {
   "cell_type": "code",
   "execution_count": 2,
   "metadata": {},
   "outputs": [],
   "source": [
    "config_manager = ConfigurationManager()\n",
    "config = config_manager.config\n",
    "\n",
    "reader = TrainingFileReader(path_to_training='../../training/laps/')\n",
    "transformer = TrainingTransformer(config)\n",
    "collector = LabelCollector()\n",
    "\n",
    "path_to_training = '../../training/laps/'\n",
    "\n",
    "def plot_stuff(title, plot_elems, figsize=(18, 10)):\n",
    "    fig=plt.figure(figsize=figsize)\n",
    "    plt.title(title)\n",
    "    #plt.ylabel('dunno')\n",
    "    plt.xlabel('Count')\n",
    "    \n",
    "    for plot_elem in plot_elems:\n",
    "        plt.plot(plot_elem['data'], label=plot_elem['label'], alpha=plot_elem['alpha'])\n",
    "\n",
    "    plt.grid(axis='y')\n",
    "    plt.legend(loc='best')\n",
    "    plt.show()\n",
    "    \n",
    "# axis=2 for frames, axis=0 for telem and diffs\n",
    "def memory_creator(instance, memory, length=4, interval=2, axis=2):\n",
    "    memory.append(instance)\n",
    "    \n",
    "    near_memory = memory[::-interval]\n",
    "    if len(near_memory) < length:\n",
    "        return None\n",
    "    \n",
    "    if len(memory) >= length * interval:\n",
    "        memory.pop(0)\n",
    "        \n",
    "    return np.concatenate(near_memory, axis=axis)\n",
    "\n",
    "\n",
    "def read_stored_data_for_training(filename):\n",
    "    df = reader.read_telemetry_as_csv(filename + '.csv')\n",
    "    telemetry = collector.collect_numeric_inputs(df)\n",
    "    diffs = collector.collect_expert_labels(df)\n",
    "\n",
    "    frames = reader.read_training_video(filename + '.avi')\n",
    "    resized_frames_np = transformer.resize_video_for_training(frames)\n",
    "\n",
    "    return resized_frames_np, telemetry, diffs\n",
    "\n",
    "\n",
    "def read_stored_video_for_display(filename):\n",
    "    return reader.read_training_video(filename + '.avi')\n",
    "    \n",
    "    \n",
    "def prep_full_mem_datas(frames, telemetry, diffs, length, interval):    \n",
    "    mem_slice_frames = []\n",
    "    mem_slice_telemetry = []\n",
    "    \n",
    "    mem_frames = []\n",
    "    for frame in frames:\n",
    "        mem_frame = memory_creator(frame, mem_slice_frames, length=length, interval=interval, axis=2)\n",
    "\n",
    "        if mem_frame is not None:\n",
    "            mem_frames.append(mem_frame)\n",
    "    mem_frames_np = np.array(mem_frames)\n",
    "    \n",
    "    mem_telemetry = []\n",
    "    for index, telem in telemetry.iterrows():\n",
    "        mem_telem = memory_creator(telem, mem_slice_telemetry, length=length, interval=interval, axis=0)\n",
    "\n",
    "        if mem_telem is not None:\n",
    "            mem_telemetry.append(mem_telem)\n",
    "    mem_telemetry_np = np.array(mem_telemetry)\n",
    "    \n",
    "    mem_diffs = diffs\n",
    "    len_diff = diffs.shape[0] - mem_frames_np.shape[0]\n",
    "    if len_diff > 0:\n",
    "        mem_diffs = mem_diffs.iloc[len_diff:]\n",
    "    mem_diffs_np = mem_diffs.to_numpy()\n",
    "    \n",
    "    assert mem_frames_np.shape[0] == mem_telemetry_np.shape[0] == mem_diffs_np.shape[0], \"Lengths differ!\"\n",
    "    return mem_frames_np, mem_telemetry_np, mem_diffs_np"
   ]
  },
  {
   "cell_type": "code",
   "execution_count": null,
   "metadata": {},
   "outputs": [],
   "source": [
    "filename = 'lap_7_2020_01_24.csv'\n",
    "\n",
    "df = pd.read_csv(path_to_training + filename)\n",
    "#df = df[8000:25000]\n",
    "\n",
    "print(df.shape)\n",
    "print(df.columns.values)"
   ]
  },
  {
   "cell_type": "code",
   "execution_count": null,
   "metadata": {},
   "outputs": [],
   "source": [
    "steering = [{'data': df.d_steering_expert, 'label':'expert diff', 'alpha':1.0}, \n",
    "         {'data': df.cs, 'label':'steering value', 'alpha':0.5}]\n",
    "\n",
    "plot_stuff('Steering', steering)"
   ]
  },
  {
   "cell_type": "code",
   "execution_count": null,
   "metadata": {},
   "outputs": [],
   "source": [
    "steering = [{'data': df.d_throttle_expert, 'label':'expert diff', 'alpha':1.0}, \n",
    "         {'data': df.ct, 'label':'throttle value', 'alpha':0.5}]\n",
    "\n",
    "plot_stuff('Throttle', steering)"
   ]
  },
  {
   "cell_type": "code",
   "execution_count": 3,
   "metadata": {},
   "outputs": [
    {
     "data": {
      "text/plain": [
       "<tensorflow.python.keras.callbacks.History at 0x7f3370264990>"
      ]
     },
     "execution_count": 3,
     "metadata": {},
     "output_type": "execute_result"
    }
   ],
   "source": [
    "filenames = ['lap_5_2020_01_24', 'lap_6_2020_01_24', 'lap_7_2020_01_24']\n",
    "experiments = [(1, 1), (4, 1), (8, 1), (16, 1)]\n",
    "epochs = 20\n",
    "batch_size = 32\n",
    "verbose = 0\n",
    "\n",
    "mem_frames, mem_telems, mem_diffs = prep_full_mem_datas(*read_stored_data_for_training(filenames[0]), *experiments[1])\n",
    "frames_train, frames_test, telemetry_train, telemetry_test, diffs_train, diffs_test = train_test_split(mem_frames, mem_telems, mem_diffs, test_size=0.2)\n",
    "\n",
    "mlp = create_mlp(input_shape=telemetry_train[0].shape)\n",
    "cnn = create_cnn(input_shape=frames_train[0].shape)\n",
    "multi = create_multi_model(mlp, cnn)\n",
    "\n",
    "multi.fit([telemetry_train, frames_train], diffs_train,\n",
    "            validation_data=([telemetry_test, frames_test], diffs_test),\n",
    "            epochs=epochs, batch_size=batch_size, verbose=verbose)"
   ]
  },
  {
   "cell_type": "code",
   "execution_count": 4,
   "metadata": {},
   "outputs": [
    {
     "name": "stdout",
     "output_type": "stream",
     "text": [
      "pygame 1.9.6\n",
      "Hello from the pygame community. https://www.pygame.org/contribute.html\n"
     ]
    }
   ],
   "source": [
    "import pygame\n",
    "import cv2\n",
    "\n",
    "display_frames = read_stored_video_for_display(filenames[0])\n",
    "display_frames = display_frames[(display_frames.shape[0] - mem_frames.shape[0]):]\n",
    "\n",
    "window_width = 500\n",
    "window_height = 200\n",
    "\n",
    "black = (0, 0, 0)\n",
    "red = (255, 0, 0)\n",
    "green = (0, 255, 0)\n",
    "blue = (0, 0, 255)\n",
    "\n",
    "pygame.init()\n",
    "font = pygame.font.SysFont('Roboto', 20)"
   ]
  },
  {
   "cell_type": "code",
   "execution_count": 7,
   "metadata": {},
   "outputs": [],
   "source": [
    "pygame.display.init()\n",
    "pygame.display.set_caption(\"Prediction viewer\")\n",
    "screen = pygame.display.set_mode((window_width, window_height))\n",
    "\n",
    "try:\n",
    "    for i in range(0, display_frames.shape[0]):\n",
    "        frame = display_frames[i]\n",
    "        screen.fill(black)\n",
    "        \n",
    "        converted_telem = mem_telems[i][np.newaxis, :]\n",
    "        converted_frame = mem_frames[i].astype(np.float32)[np.newaxis, :]\n",
    "        \n",
    "        # gear, steering, throttle, braking\n",
    "        predictions = multi.predict([converted_telem, converted_frame])[0]\n",
    "        #print(mem_diffs[i])\n",
    "        #print(predictions)\n",
    "        \n",
    "        prediction_text = \"{}\".format(predictions[1])\n",
    "        prediction_texture = font.render(prediction_text, True, green)\n",
    "        screen.blit(prediction_texture, (200, window_height - 25))\n",
    "        \n",
    "        frame = np.rot90(frame)\n",
    "        surface = pygame.surfarray.make_surface(frame)\n",
    "        \n",
    "        x = (window_width - frame.shape[0]) // 2\n",
    "        y = 0\n",
    "        screen.blit(surface, (x, y))\n",
    "        pygame.display.update()\n",
    "\n",
    "        for event in pygame.event.get():\n",
    "            if event.type == pygame.KEYDOWN:\n",
    "                if event.key == pygame.K_ESCAPE:\n",
    "                    sys.exit(0)\n",
    "    pygame.display.quit()\n",
    "    \n",
    "except (KeyboardInterrupt, SystemExit) as ex:\n",
    "    pygame.display.quit()"
   ]
  },
  {
   "cell_type": "code",
   "execution_count": null,
   "metadata": {},
   "outputs": [],
   "source": []
  }
 ],
 "metadata": {
  "kernelspec": {
   "display_name": "Python 3",
   "language": "python",
   "name": "python3"
  },
  "language_info": {
   "codemirror_mode": {
    "name": "ipython",
    "version": 3
   },
   "file_extension": ".py",
   "mimetype": "text/x-python",
   "name": "python",
   "nbconvert_exporter": "python",
   "pygments_lexer": "ipython3",
   "version": "3.7.4"
  }
 },
 "nbformat": 4,
 "nbformat_minor": 2
}
