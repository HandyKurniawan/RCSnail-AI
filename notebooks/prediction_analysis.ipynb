{
 "cells": [
  {
   "cell_type": "code",
   "execution_count": 1,
   "metadata": {},
   "outputs": [
    {
     "name": "stdout",
     "output_type": "stream",
     "text": [
      "pygame 1.9.6\n",
      "Hello from the pygame community. https://www.pygame.org/contribute.html\n"
     ]
    }
   ],
   "source": [
    "%matplotlib inline\n",
    "import os\n",
    "import sys\n",
    "import gc\n",
    "import time\n",
    "from tqdm.notebook import tqdm\n",
    "\n",
    "import numpy as np\n",
    "import matplotlib.pyplot as plt\n",
    "import pygame\n",
    "import cv2\n",
    "from sklearn.model_selection import train_test_split\n",
    "from tensorflow.keras.utils import plot_model\n",
    "\n",
    "module_path = os.path.abspath(os.path.join('..'))\n",
    "if module_path not in sys.path:\n",
    "    sys.path.append(module_path)\n",
    "\n",
    "from commons.configuration_manager import ConfigurationManager\n",
    "from src.learning.model_wrapper import ModelWrapper\n",
    "from src.learning.training.collector import Collector\n",
    "from src.learning.training.training_file_reader import TrainingFileReader\n",
    "from src.utilities.transformer import Transformer\n",
    "from notebooks.notebook_commons import read_stored_data_with_labels, read_stored_data_with_shifted_labels, create_memorized_dataset\n",
    "\n",
    "window_width = 500\n",
    "window_height = 200\n",
    "\n",
    "black = (0, 0, 0)\n",
    "white = (255, 255, 255)\n",
    "red = (255, 0, 0)\n",
    "green = (0, 153, 0)\n",
    "blue = (0, 128, 255)\n",
    "\n",
    "pygame.init()\n",
    "font = pygame.font.SysFont('Roboto', 20)"
   ]
  },
  {
   "cell_type": "code",
   "execution_count": 2,
   "metadata": {},
   "outputs": [],
   "source": [
    "def plot_stuff(title, plot_elems, figsize=(18, 6)):\n",
    "    fig=plt.figure(figsize=figsize)\n",
    "    plt.title(title)\n",
    "    #plt.ylabel('dunno')\n",
    "    plt.xlabel('Count')\n",
    "    \n",
    "    for plot_elem in plot_elems:\n",
    "        plt.plot(plot_elem['data'], label=plot_elem['label'], alpha=plot_elem['alpha'])\n",
    "\n",
    "    plt.grid(axis='y')\n",
    "    plt.legend(loc='best')\n",
    "    plt.show()\n",
    "        \n",
    "def get_mem_dataset_with_full_video(filename, length, interval):\n",
    "    mem_frames_np, mem_telemetry_np, mem_diffs_np = create_memorized_dataset(*read_stored_data_with_labels(reader, transformer, filename, collector.steering_columns(), collector.diff_steering_columns()), length, interval)\n",
    "    view_frames_np = reader.read_video(filename + '.avi')[((length - 1) * interval):]\n",
    "    \n",
    "    assert view_frames_np.shape[0] == mem_frames_np.shape[0], \"Frames length mismatch!\"\n",
    "    assert mem_frames_np.shape[0] == mem_telemetry_np.shape[0] == mem_diffs_np.shape[0], \"Mem lengths differ!\"\n",
    "    return mem_frames_np, mem_telemetry_np, mem_diffs_np, view_frames_np\n",
    "\n",
    "def get_shifted_mem_dataset_with_full_video(filename, length, interval):\n",
    "    mem_frames_np, mem_telemetry_np, mem_diffs_np = create_memorized_dataset(*read_stored_data_with_shifted_labels(reader, transformer.cut_wide_and_normalize_video_shifted, filename, collector.numeric_columns(), collector.steering_column()), length, interval)\n",
    "    view_frames_np = reader.read_video(filename + '.avi')[((length - 1) * interval):-1]\n",
    "    \n",
    "    assert view_frames_np.shape[0] == mem_frames_np.shape[0], \"Frames length mismatch!\"\n",
    "    assert mem_frames_np.shape[0] == mem_telemetry_np.shape[0] == mem_diffs_np.shape[0], \"Mem lengths differ!\"\n",
    "    return mem_frames_np, mem_telemetry_np, mem_diffs_np, view_frames_np\n",
    "\n",
    "def validate_partial(memory, i):\n",
    "    memory_string = 'n{}_m{}'.format(*memory)\n",
    "    path = '../../training/' + memory_string + '/'\n",
    "\n",
    "    mem_frame = np.load(path + GenFiles.frame.format(memory_string, i)) * 255\n",
    "    return mem_frame.astype(np.uint8)[:,:,:3]"
   ]
  },
  {
   "cell_type": "code",
   "execution_count": 3,
   "metadata": {},
   "outputs": [
    {
     "name": "stdout",
     "output_type": "stream",
     "text": [
      "(2929, 50, 180, 12)\n",
      "(2929, 16)\n"
     ]
    }
   ],
   "source": [
    "config_manager = ConfigurationManager()\n",
    "config = config_manager.config\n",
    "\n",
    "reader = TrainingFileReader(path_to_training='../../training/validation_laps/')\n",
    "collector = Collector()\n",
    "\n",
    "validation_laps = ['2020_02_28_lap_20']\n",
    "validation_lap = validation_laps[0]\n",
    "memory_variants = [(1, 1), (4, 1), (4, 4), (8, 1), (8, 4), (12, 1)]\n",
    "memory = memory_variants[1]\n",
    "\n",
    "transformer = Transformer(config, memory_tuple=memory)\n",
    "\n",
    "mem_frames, mem_telems, mem_diffs, display_frames = get_shifted_mem_dataset_with_full_video(validation_lap, *memory)\n",
    "print(mem_frames.shape)\n",
    "print(mem_telems.shape)"
   ]
  },
  {
   "cell_type": "code",
   "execution_count": 4,
   "metadata": {},
   "outputs": [
    {
     "name": "stdout",
     "output_type": "stream",
     "text": [
      "Loaded model_n1_m1_1.h5\n",
      "Model: \"model_2\"\n",
      "_________________________________________________________________\n",
      "Layer (type)                 Output Shape              Param #   \n",
      "=================================================================\n",
      "input_3 (InputLayer)         [(None, 50, 180, 3)]      0         \n",
      "_________________________________________________________________\n",
      "conv2d_10 (Conv2D)           (None, 25, 90, 24)        1824      \n",
      "_________________________________________________________________\n",
      "conv2d_11 (Conv2D)           (None, 13, 45, 36)        21636     \n",
      "_________________________________________________________________\n",
      "conv2d_12 (Conv2D)           (None, 7, 23, 48)         43248     \n",
      "_________________________________________________________________\n",
      "conv2d_13 (Conv2D)           (None, 7, 23, 64)         27712     \n",
      "_________________________________________________________________\n",
      "conv2d_14 (Conv2D)           (None, 7, 23, 64)         36928     \n",
      "_________________________________________________________________\n",
      "flatten_2 (Flatten)          (None, 10304)             0         \n",
      "_________________________________________________________________\n",
      "dense_10 (Dense)             (None, 1164)              11995020  \n",
      "_________________________________________________________________\n",
      "dense_11 (Dense)             (None, 100)               116500    \n",
      "_________________________________________________________________\n",
      "dense_12 (Dense)             (None, 50)                5050      \n",
      "_________________________________________________________________\n",
      "dense_13 (Dense)             (None, 10)                510       \n",
      "_________________________________________________________________\n",
      "dense_14 (Dense)             (None, 1)                 11        \n",
      "=================================================================\n",
      "Total params: 12,248,439\n",
      "Trainable params: 12,248,439\n",
      "Non-trainable params: 0\n",
      "_________________________________________________________________\n"
     ]
    }
   ],
   "source": [
    "from tensorflow.keras.models import load_model\n",
    "#multi = load_model('../../training/models/model_n{}_m{}_6.h5'.format(*memory))\n",
    "multi = ModelWrapper(config, memory_tuple=memory, model_num=1)"
   ]
  },
  {
   "cell_type": "code",
   "execution_count": 5,
   "metadata": {},
   "outputs": [
    {
     "name": "stdout",
     "output_type": "stream",
     "text": [
      "Error when checking input: expected input_3 to have shape (50, 180, 3) but got array with shape (50, 180, 12)\n"
     ]
    }
   ],
   "source": [
    "pred_steer = []\n",
    "actual_steer = []\n",
    "\n",
    "pygame.display.init()\n",
    "pygame.display.set_caption(\"Prediction viewer\")\n",
    "screen = pygame.display.set_mode((window_width, window_height))\n",
    "\n",
    "try:\n",
    "    pred_smoothing = []\n",
    "    for i in range(0, display_frames.shape[0]):\n",
    "        frame = display_frames[i]\n",
    "        screen.fill(black)\n",
    "        \n",
    "        converted_telem = mem_telems[i][np.newaxis, :]\n",
    "        converted_frame = mem_frames[i][np.newaxis, :]\n",
    "        \n",
    "        # gear, steering, throttle, braking\n",
    "        #predictions = multi.predict([converted_frame, converted_telem])[0]\n",
    "        #predicted_steering = predictions[0]\n",
    "        predicted_steering = multi.predict(mem_frames[i], mem_telems[i]).to_dict()['d_steering']\n",
    "        \n",
    "        pred_steering_str = \"P: {0:.4f}\".format(predicted_steering)\n",
    "        if predicted_steering >= 0.0:\n",
    "            prediction_text = font.render(pred_steering_str, True, green)\n",
    "        else:\n",
    "            prediction_text = font.render(pred_steering_str, True, blue)\n",
    "        \n",
    "        actual_steering = mem_telems[i, 1]\n",
    "        #actual_steering = mem_telems[i, 0]\n",
    "        actual_steering_str = \"T: {0:.4f}\".format(actual_steering)\n",
    "        if actual_steering >= 0.0:\n",
    "            actual_text = font.render(actual_steering_str, True, green)\n",
    "        else:\n",
    "            actual_text = font.render(actual_steering_str, True, blue)\n",
    "        \n",
    "        pred_steer.append(predicted_steering)\n",
    "        actual_steer.append(actual_steering)\n",
    "        \n",
    "        delta = actual_steering - predicted_steering\n",
    "        delta_str = \"D: {0:.4f}\".format(delta)\n",
    "        delta_text = font.render(delta_str, True, white)\n",
    "        \n",
    "        #frame = mem_frames[i][:,:,:3]\n",
    "        #frame = validate_partial(memory, i)\n",
    "        frame = np.rot90(frame)\n",
    "        surface = pygame.surfarray.make_surface(frame)\n",
    "        \n",
    "        x = (window_width - frame.shape[0]) // 2\n",
    "        y = 0\n",
    "        \n",
    "        #time.sleep(0.05)\n",
    "        screen.blit(prediction_text, (200, window_height - 75))\n",
    "        screen.blit(actual_text, (200, window_height - 45))\n",
    "        screen.blit(delta_text, (200, window_height - 15))\n",
    "        screen.blit(surface, (x, y))\n",
    "        pygame.display.update()\n",
    "\n",
    "        for event in pygame.event.get():\n",
    "            if event.type == pygame.KEYDOWN:\n",
    "                if event.key == pygame.K_ESCAPE:\n",
    "                    sys.exit(0)\n",
    "    pygame.display.quit()\n",
    "except (KeyboardInterrupt, SystemExit, Exception) as ex:\n",
    "    print(ex)\n",
    "    pygame.display.quit()"
   ]
  },
  {
   "cell_type": "code",
   "execution_count": null,
   "metadata": {},
   "outputs": [],
   "source": [
    "plotto = []\n",
    "plotto.append({'data': actual_steer, 'label': 'actual', 'alpha': 0.9})\n",
    "plotto.append({'data': pred_steer, 'label': 'predicted', 'alpha': 0.9})\n",
    "\n",
    "plot_stuff('steering comparison', plotto)\n",
    "\n",
    "drive_data = reader.read_specific_telemetry_columns(validation_lap + '.csv', ['cs', 'p_steering'])\n",
    "\n",
    "plotto_2 = []\n",
    "plotto_2.append({'data': drive_data.to_numpy()[:, 0], 'label': 'actual', 'alpha': 0.9})\n",
    "plotto_2.append({'data': drive_data.to_numpy()[:, 1], 'label': 'predicted', 'alpha': 0.9})\n",
    "\n",
    "plot_stuff('live steering comparison', plotto_2)"
   ]
  },
  {
   "cell_type": "code",
   "execution_count": null,
   "metadata": {},
   "outputs": [],
   "source": [
    "df = reader.read_specific_telemetry_columns('2020_02_27_i1.csv', ['c', 'conn_time', 'p_start', 'p_end'])\n",
    "df.drop(df.tail(1).index,inplace=True)\n",
    "data = df.to_numpy()\n",
    "\n",
    "plot_data = []\n",
    "plot_data.append({'data': data[10:, 1]- data[10:, 0], 'label': 'conn diff millis', 'alpha': 0.7})\n",
    "plot_data.append({'data': data[10:, 3]- data[10:, 2], 'label': 'p diff millis', 'alpha': 0.7})\n",
    "plot_stuff('connection and predict time elapsed', plot_data)\n",
    "\n",
    "plot_data = []\n",
    "plot_data.append({'data': data[:, 2]- data[:, 1], 'label': 'zmq diff millis', 'alpha': 0.7})\n",
    "plot_stuff('time diff between connection and predict', plot_data)\n",
    "\n",
    "t = np.mean(data[1:, 3]- data[1:, 2])\n",
    "print(t)\n",
    "print('FPS: {}'.format(1/(t / 1000)))"
   ]
  },
  {
   "cell_type": "code",
   "execution_count": null,
   "metadata": {},
   "outputs": [],
   "source": [
    "import tensorflow as tf\n",
    "print(tf.config.list_physical_devices())\n",
    "\n",
    "print(\"Num GPUs Available: \", len(tf.config.experimental.list_physical_devices('GPU')))"
   ]
  },
  {
   "cell_type": "code",
   "execution_count": null,
   "metadata": {},
   "outputs": [],
   "source": [
    "a = {'a': 2}\n",
    "b = a\n",
    "b['b'] = 3\n",
    "\n",
    "print(a)\n",
    "print(b)\n",
    "\n",
    "from PIL import Image\n",
    "\n",
    "frame = mem_frames[2250][:,:,:3]\n",
    "Image.fromarray((frame * 255).astype(np.uint8)).show()\n",
    "\n",
    "from datetime import datetime\n",
    "print(datetime.now().timestamp())"
   ]
  }
 ],
 "metadata": {
  "kernelspec": {
   "display_name": "Python 3",
   "language": "python",
   "name": "python3"
  },
  "language_info": {
   "codemirror_mode": {
    "name": "ipython",
    "version": 3
   },
   "file_extension": ".py",
   "mimetype": "text/x-python",
   "name": "python",
   "nbconvert_exporter": "python",
   "pygments_lexer": "ipython3",
   "version": "3.7.6"
  },
  "pycharm": {
   "stem_cell": {
    "cell_type": "raw",
    "metadata": {
     "collapsed": false
    },
    "source": []
   }
  }
 },
 "nbformat": 4,
 "nbformat_minor": 2
}
