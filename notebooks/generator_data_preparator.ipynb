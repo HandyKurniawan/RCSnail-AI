{
 "cells": [
  {
   "cell_type": "code",
   "execution_count": 1,
   "metadata": {},
   "outputs": [],
   "source": [
    "%matplotlib inline\n",
    "import os\n",
    "import glob\n",
    "import sys\n",
    "import gc\n",
    "import numpy as np\n",
    "import matplotlib.pyplot as plt\n",
    "from tqdm.notebook import tqdm\n",
    "\n",
    "module_path = os.path.abspath(os.path.join('..'))\n",
    "if module_path not in sys.path:\n",
    "    sys.path.append(module_path)\n",
    "\n",
    "from commons.configuration_manager import ConfigurationManager\n",
    "from src.learning.training.collector import Collector\n",
    "from src.learning.training.generator import GenFiles\n",
    "from src.learning.training.training_file_reader import TrainingFileReader\n",
    "from notebooks.notebook_commons import read_shifted_numerics_and_targets, read_stored_data_with_shifted_labels, create_memorized_dataset\n",
    "from src.utilities.transformer import Transformer"
   ]
  },
  {
   "cell_type": "code",
   "execution_count": 2,
   "metadata": {},
   "outputs": [],
   "source": [
    "def plot_stuff(title, plot_elems, bins=None, figsize=(18, 10)):\n",
    "    fig=plt.figure(figsize=figsize)\n",
    "    plt.title(title)\n",
    "    #plt.ylabel('dunno')\n",
    "    plt.xlabel('Count')\n",
    "    \n",
    "    for plot_elem in plot_elems:\n",
    "        plt.hist(plot_elem['data'], bins=bins, label=plot_elem['label'], alpha=plot_elem['alpha'])\n",
    "\n",
    "    plt.grid(axis='both')\n",
    "    plt.legend(loc='best')\n",
    "    plt.show()\n",
    "\n",
    "def downsample_half_max_indexes(data_column, bin_size=0.01):\n",
    "    downsample_multipliers = np.ones(data_column.shape, dtype=int)\n",
    "    to_del = None\n",
    "    \n",
    "    bins = np.arange(-1.0, 1.0, bin_size)\n",
    "    indices = np.digitize(data_column, bins)\n",
    "    unique_bins, counts = np.unique(indices, return_counts=True)\n",
    "    sorted_counts = np.sort(counts)\n",
    "    \n",
    "    count_dict = dict(zip(unique_bins, counts))\n",
    "    threshold_count = int(np.mean(counts) +  (np.max(counts) - np.mean(counts)) // 2)\n",
    "    \n",
    "    for unique_bin, count in count_dict.items():\n",
    "        if count > threshold_count:\n",
    "            indexes = np.where(indices == unique_bin)[0]\n",
    "            to_del_indexes = np.random.choice(indexes, count - threshold_count, replace=False)\n",
    "            \n",
    "            downsample_multipliers[to_del_indexes] = 0\n",
    "    \n",
    "    return downsample_multipliers\n",
    "\n",
    "def upsample_half_max_indexes(data_column, downsampling, bin_size=0.01):\n",
    "    upsample_multipliers = np.zeros(data_column.shape, dtype=int)\n",
    "    bins = np.arange(-1.0, 1.0, bin_size)\n",
    "    indices = np.digitize(data_column, bins)\n",
    "    \n",
    "    unique_bins, counts = np.unique(indices, return_counts=True)\n",
    "    count_dict = dict(zip(unique_bins, counts))\n",
    "    threshold_count = int(np.mean(counts) +  (np.max(counts) - np.mean(counts)) // 2)\n",
    "    \n",
    "    for i in range(0, upsample_multipliers.shape[0]):\n",
    "        count = count_dict[indices[i]]\n",
    "        if count >= threshold_count:\n",
    "            upsample_multipliers[i] = downsampling[i]\n",
    "        else:\n",
    "            upsample_multipliers[i] = threshold_count // count\n",
    "    \n",
    "    return upsample_multipliers\n",
    "\n",
    "def store_sampling(new_sampling, path, filename):\n",
    "    if os.path.isfile(path + filename):\n",
    "        stored_sampling = np.load(path + filename, allow_pickle=True)\n",
    "        full_sampling = np.concatenate((stored_sampling, new_sampling), axis=0)\n",
    "    else:\n",
    "        full_sampling = new_sampling\n",
    "        \n",
    "    np.save(path + filename, full_sampling)"
   ]
  },
  {
   "cell_type": "code",
   "execution_count": 3,
   "metadata": {},
   "outputs": [],
   "source": [
    "config_manager = ConfigurationManager()\n",
    "config = config_manager.config\n",
    "\n",
    "reader = TrainingFileReader(path_to_training='../../training/laps/')\n",
    "transformer = Transformer(config)\n",
    "collector = Collector()\n",
    "\n",
    "filenames = ['lap_1_2020_01_24', 'lap_2_2020_01_24', 'lap_3_2020_01_24', 'lap_4_2020_01_24', \n",
    "             'lap_5_2020_01_24', 'lap_6_2020_01_24', 'lap_7_2020_01_24', 'lap_8_2020_02_07', \n",
    "             'lap_9_2020_02_07', 'lap_10_2020_02_07', 'lap_11_2020_02_07', 'lap_12_2020_02_10', \n",
    "             'lap_13_2020_02_10', 'lap_14_2020_02_10']\n",
    "#filenames = ['lap_1_2020_01_24', 'lap_2_2020_01_24', 'lap_9_2020_02_07', 'lap_10_2020_02_07', \n",
    "#             'lap_11_2020_02_07', 'lap_12_2020_02_10', 'lap_13_2020_02_10', 'lap_14_2020_02_10']\n",
    "memory_variants = [(1, 1), (4, 1), (4, 4)]\n",
    "memory_variants = [(4, 1)]\n",
    "\n",
    "base_path = '../../training/'"
   ]
  },
  {
   "cell_type": "code",
   "execution_count": 4,
   "metadata": {},
   "outputs": [
    {
     "data": {
      "application/vnd.jupyter.widget-view+json": {
       "model_id": "69f4e7b7aaf84636bcf09669042afe5c",
       "version_major": 2,
       "version_minor": 0
      },
      "text/plain": [
       "HBox(children=(FloatProgress(value=0.0, max=1.0), HTML(value='')))"
      ]
     },
     "metadata": {},
     "output_type": "display_data"
    },
    {
     "name": "stdout",
     "output_type": "stream",
     "text": [
      "\r",
      "Writing n4_m1 files.\n"
     ]
    },
    {
     "data": {
      "application/vnd.jupyter.widget-view+json": {
       "model_id": "2a3688e5b5df4be198025a07536fb4df",
       "version_major": 2,
       "version_minor": 0
      },
      "text/plain": [
       "HBox(children=(FloatProgress(value=0.0, max=14.0), HTML(value='')))"
      ]
     },
     "metadata": {},
     "output_type": "display_data"
    },
    {
     "name": "stdout",
     "output_type": "stream",
     "text": [
      "\n",
      "\r",
      "kinda done\n",
      "\n"
     ]
    }
   ],
   "source": [
    "# NB this is shifted steering specific, cut half wide frames\n",
    "total_diff = None\n",
    "\n",
    "for memory in tqdm(memory_variants):\n",
    "    len_diff = (memory[0] - 1) * memory[1]\n",
    "    memory_string = 'n{}_m{}'.format(*memory)\n",
    "    path = base_path + memory_string + '/'\n",
    "\n",
    "    if not os.path.isdir(path):\n",
    "        os.mkdir(path)\n",
    "    \n",
    "    old_genfiles = glob.glob(path + '*')\n",
    "    for old_genfile in old_genfiles:\n",
    "        os.remove(old_genfile)\n",
    "    \n",
    "    tqdm.write('Writing n{}_m{} files.'.format(*memory))    \n",
    "    \n",
    "    for filename in tqdm(filenames):\n",
    "        mem_slice_frames = []\n",
    "        mem_slice_numerics = []\n",
    "        \n",
    "        existing_count = len([fn for fn in os.listdir(path) if fn.startswith('frame_')])\n",
    "        \n",
    "        numerics, diffs = read_shifted_numerics_and_targets(reader, filename, collector.numeric_columns(), collector.numeric_columns())\n",
    "        stored_i = 0\n",
    "        \n",
    "        for i, frame in reader.read_video_gen(filename + '.avi', diffs.shape[0]):\n",
    "            mem_frame = transformer.session_frame_wide(frame, mem_slice_frames)\n",
    "            mem_numeric = transformer.session_numeric_np(numerics[i], mem_slice_numerics)\n",
    "            \n",
    "            if mem_frame is None or mem_numeric is None:\n",
    "                continue\n",
    "            \n",
    "            np.save(path + GenFiles.frame.format(memory_string, stored_i + existing_count), mem_frame)\n",
    "            np.save(path + GenFiles.steer.format(memory_string, stored_i + existing_count), mem_numeric)\n",
    "            np.save(path + GenFiles.steer_diff.format(memory_string, stored_i + existing_count), diffs[i])\n",
    "            stored_i += 1\n",
    "            \n",
    "        if total_diff is None:\n",
    "            total_diff = diffs[len_diff:].copy()\n",
    "        else:\n",
    "            total_diff = np.concatenate((total_diff, diffs[len_diff:].copy()))\n",
    "\n",
    "        gc.collect()\n",
    "\n",
    "    downsampling = downsample_half_max_indexes(total_diff[:, 1])\n",
    "    upsampling = upsample_half_max_indexes(total_diff[:, 1], downsampling)\n",
    "    store_sampling(upsampling, path, GenFiles.steer_sampling.format(memory_string))\n",
    "    \n",
    "    tqdm.write('kinda done')"
   ]
  },
  {
   "cell_type": "code",
   "execution_count": 5,
   "metadata": {},
   "outputs": [
    {
     "name": "stdout",
     "output_type": "stream",
     "text": [
      "90234\n",
      "90234\n",
      "90234\n",
      "(90234, 4)\n"
     ]
    }
   ],
   "source": [
    "print(len([fn for fn in os.listdir(path) if fn.startswith('frame_')]))\n",
    "print(len([fn for fn in os.listdir(path) if fn.startswith('steer_n4')]))\n",
    "print(len([fn for fn in os.listdir(path) if fn.startswith('steer_diff')]))\n",
    "print(total_diff.shape)"
   ]
  },
  {
   "cell_type": "code",
   "execution_count": 6,
   "metadata": {},
   "outputs": [],
   "source": [
    "samp_diffs = np.repeat(total_diff, upsampling, axis=0)"
   ]
  },
  {
   "cell_type": "code",
   "execution_count": 7,
   "metadata": {},
   "outputs": [
    {
     "data": {
      "image/png": "[encoded data removed]",
      "text/plain": [
       "<Figure size 1296x720 with 1 Axes>"
      ]
     },
     "metadata": {
      "needs_background": "light"
     },
     "output_type": "display_data"
    }
   ],
   "source": [
    "plot_elems = []\n",
    "plot_elems.append({'data': total_diff[:, 1], 'label': 'pre', 'alpha': 0.5})\n",
    "plot_elems.append({'data': samp_diffs[:, 1], 'label': 'post', 'alpha': 1.0})\n",
    "bins = np.arange(-1.0, 1.01, 0.01)\n",
    "\n",
    "plot_stuff('steering', plot_elems, bins)"
   ]
  }
 ],
 "metadata": {
  "kernelspec": {
   "display_name": "Python 3",
   "language": "python",
   "name": "python3"
  },
  "language_info": {
   "codemirror_mode": {
    "name": "ipython",
    "version": 3
   },
   "file_extension": ".py",
   "mimetype": "text/x-python",
   "name": "python",
   "nbconvert_exporter": "python",
   "pygments_lexer": "ipython3",
   "version": "3.7.4"
  },
  "pycharm": {
   "stem_cell": {
    "cell_type": "raw",
    "metadata": {
     "collapsed": false
    },
    "source": []
   }
  }
 },
 "nbformat": 4,
 "nbformat_minor": 2
}
