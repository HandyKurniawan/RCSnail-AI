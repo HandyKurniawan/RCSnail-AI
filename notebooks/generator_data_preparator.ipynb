{
 "cells": [
  {
   "cell_type": "code",
   "execution_count": null,
   "metadata": {},
   "outputs": [],
   "source": [
    "%matplotlib inline\n",
    "import os\n",
    "import sys\n",
    "import gc\n",
    "import numpy as np\n",
    "import matplotlib.pyplot as plt\n",
    "\n",
    "module_path = os.path.abspath(os.path.join('..'))\n",
    "if module_path not in sys.path:\n",
    "    sys.path.append(module_path)\n",
    "\n",
    "from commons.configuration_manager import ConfigurationManager\n",
    "from src.learning.training.collector import Collector\n",
    "from src.learning.training.generator import GenFiles\n",
    "from src.learning.training.training_file_reader import TrainingFileReader\n",
    "from notebooks.notebook_commons import read_stored_data, create_memorized_dataset\n",
    "from src.utilities.transformer import Transformer"
   ]
  },
  {
   "cell_type": "code",
   "execution_count": null,
   "metadata": {},
   "outputs": [],
   "source": [
    "config_manager = ConfigurationManager()\n",
    "config = config_manager.config\n",
    "\n",
    "reader = TrainingFileReader(path_to_training='../../training/laps/')\n",
    "transformer = Transformer(config)\n",
    "collector = Collector()\n",
    "\n",
    "\n",
    "def plot_stuff(title, plot_elems, bins=None, figsize=(18, 10)):\n",
    "    fig=plt.figure(figsize=figsize)\n",
    "    plt.title(title)\n",
    "    #plt.ylabel('dunno')\n",
    "    plt.xlabel('Count')\n",
    "    \n",
    "    for plot_elem in plot_elems:\n",
    "        plt.hist(plot_elem['data'], bins=bins, label=plot_elem['label'], alpha=plot_elem['alpha'])\n",
    "\n",
    "    plt.grid(axis='both')\n",
    "    plt.legend(loc='best')\n",
    "    plt.show()\n",
    "\n",
    "\n",
    "def balanced_sampling_haltuura(frames, numerics, diffs, lower_bound=-0.001, upper_bound=0.001, p_drop=0.96):\n",
    "    # TODO currently assuming only one column exists in diffs \n",
    "    zero_indexes = np.where(diffs == 0.0)[0]\n",
    "    sampled_zero_indexes = np.random.choice(zero_indexes, int(zero_indexes.shape[0] * p_drop), replace=False)\n",
    "    \n",
    "    sampled_frames = np.delete(frames, sampled_zero_indexes, axis=0)\n",
    "    sampled_numerics = np.delete(numerics, sampled_zero_indexes, axis=0)\n",
    "    sampled_diffs = np.delete(diffs, sampled_zero_indexes, axis=0)\n",
    "    \n",
    "    return sampled_frames, sampled_numerics, sampled_diffs"
   ]
  },
  {
   "cell_type": "code",
   "execution_count": null,
   "metadata": {},
   "outputs": [],
   "source": [
    "filenames = ['lap_5_2020_01_24', 'lap_6_2020_01_24', 'lap_7_2020_01_24']\n",
    "experiments = [(1, 1), (4, 1), (4, 3), (8, 1), (16, 1)]\n",
    "\n",
    "memory = experiments[3]\n",
    "select_filename = filenames[2]\n",
    "\n",
    "base_path = '../../training/'\n",
    "memory_string = 'n{}_m{}'.format(*memory)\n",
    "full_path = base_path + memory_string + '/'\n",
    "\n",
    "if not os.path.isdir(full_path):\n",
    "    os.mkdir(full_path)\n",
    "\n",
    "for filename in filenames:\n",
    "    existing_count = len(os.listdir(full_path)) // 3\n",
    "\n",
    "    frames, numerics, diffs = read_stored_data(reader, transformer, filename, collector.steering_columns(), collector.diff_steering_columns())\n",
    "    mem_frames, mem_numerics, mem_diffs = create_memorized_dataset(frames, numerics, diffs, *memory)\n",
    "    balanced_frames, balanced_numerics, balanced_diffs = balanced_sampling_haltuura(mem_frames, mem_numerics, mem_diffs, p_drop=0.95)\n",
    "    print(balanced_frames.shape)\n",
    "    print(balanced_numerics.shape)\n",
    "    print(balanced_diffs.shape)\n",
    "\n",
    "    for i in range(0, balanced_frames.shape[0]):\n",
    "        np.save(full_path + GenFiles.frame_file.format(memory_string, i + existing_count), balanced_frames[i])\n",
    "        np.save(full_path + GenFiles.numeric_file.format(memory_string, i + existing_count), balanced_numerics[i])\n",
    "        np.save(full_path + GenFiles.diff_file.format(memory_string, i + existing_count), balanced_diffs[i])\n",
    "    gc.collect()"
   ]
  },
  {
   "cell_type": "code",
   "execution_count": null,
   "metadata": {},
   "outputs": [],
   "source": [
    "bins = np.arange(-0.1, 0.1, 0.001)\n",
    "indices = np.digitize(mem_diffs, bins)\n",
    "unique, counts = np.unique(indices, return_counts=True)\n",
    "\n",
    "stuff = dict(zip(unique, counts))\n",
    "print(counts)"
   ]
  },
  {
   "cell_type": "code",
   "execution_count": null,
   "metadata": {},
   "outputs": [],
   "source": [
    "plot_elems = []\n",
    "#plot_elems.append({'data': diffs, 'label': 'd_steering pre', 'alpha': 0.5})\n",
    "plot_elems.append({'data': mem_diffs, 'label': 'd_steering post', 'alpha': 0.5})\n",
    "bins = np.arange(-0.3, 0.3, 0.01)\n",
    "\n",
    "plot_stuff('steering', plot_elems, bins)"
   ]
  }
 ],
 "metadata": {
  "kernelspec": {
   "display_name": "Python 3",
   "language": "python",
   "name": "python3"
  },
  "language_info": {
   "codemirror_mode": {
    "name": "ipython",
    "version": 3
   },
   "file_extension": ".py",
   "mimetype": "text/x-python",
   "name": "python",
   "nbconvert_exporter": "python",
   "pygments_lexer": "ipython3",
   "version": "3.7.4"
  },
  "pycharm": {
   "stem_cell": {
    "cell_type": "raw",
    "source": [],
    "metadata": {
     "collapsed": false
    }
   }
  }
 },
 "nbformat": 4,
 "nbformat_minor": 2
}