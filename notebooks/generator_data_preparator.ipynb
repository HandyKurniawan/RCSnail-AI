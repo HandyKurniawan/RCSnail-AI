{
 "cells": [
  {
   "cell_type": "code",
   "execution_count": null,
   "metadata": {},
   "outputs": [],
   "source": [
    "%matplotlib inline\n",
    "import os\n",
    "import sys\n",
    "import gc\n",
    "import numpy as np\n",
    "import matplotlib.pyplot as plt\n",
    "\n",
    "module_path = os.path.abspath(os.path.join('..'))\n",
    "if module_path not in sys.path:\n",
    "    sys.path.append(module_path)\n",
    "\n",
    "from commons.configuration_manager import ConfigurationManager\n",
    "from src.learning.training.collector import Collector\n",
    "from src.learning.training.generator import GenFiles\n",
    "from src.learning.training.training_file_reader import TrainingFileReader\n",
    "from notebooks.notebook_commons import read_stored_data, create_memorized_dataset\n",
    "from src.utilities.transformer import Transformer"
   ]
  },
  {
   "cell_type": "code",
   "execution_count": null,
   "metadata": {},
   "outputs": [],
   "source": [
    "def plot_stuff(title, plot_elems, bins=None, figsize=(18, 10)):\n",
    "    fig=plt.figure(figsize=figsize)\n",
    "    plt.title(title)\n",
    "    #plt.ylabel('dunno')\n",
    "    plt.xlabel('Count')\n",
    "    \n",
    "    for plot_elem in plot_elems:\n",
    "        plt.hist(plot_elem['data'], bins=bins, label=plot_elem['label'], alpha=plot_elem['alpha'])\n",
    "\n",
    "    plt.grid(axis='both')\n",
    "    plt.legend(loc='best')\n",
    "    plt.show()\n",
    "\n",
    "\n",
    "def balanced_steering_sampling(frames, numerics, diffs, lower_bound=-0.001, upper_bound=0.001, p_drop=0.96):\n",
    "    # steering column \n",
    "    zero_indexes = np.where(diffs[:, 1] == 0.0)[0]\n",
    "    sampled_zero_indexes = np.random.choice(zero_indexes, int(zero_indexes.shape[0] * p_drop), replace=False)\n",
    "    \n",
    "    sampled_frames = np.delete(frames, sampled_zero_indexes, axis=0)\n",
    "    sampled_numerics = np.delete(numerics, sampled_zero_indexes, axis=0)\n",
    "    sampled_diffs = np.delete(diffs, sampled_zero_indexes, axis=0)\n",
    "    \n",
    "    return sampled_frames, sampled_numerics, sampled_diffs\n",
    "\n",
    "\n",
    "def upsampling(data_column):\n",
    "    upsample_multipliers = np.zeros(data_column.shape, dtype=int)\n",
    "    \n",
    "    # TODO this should be variable per column data type\n",
    "    bins = np.arange(-1.0, 1.0, 0.001)\n",
    "    indices = np.digitize(data_column, bins)\n",
    "    \n",
    "    unique_bins, counts = np.unique(indices, return_counts=True)\n",
    "    count_dict = dict(zip(unique_bins, counts))\n",
    "    max_count = np.max(counts)\n",
    "\n",
    "    for i in range(0, upsample_multipliers.shape[0]):\n",
    "        count = count_dict[indices[i]]\n",
    "        upsample_multipliers[i] = max_count // count\n",
    "    \n",
    "    return upsample_multipliers\n",
    "\n",
    "def store_upsampling(new_sampling, path, filename):\n",
    "    if os.path.isfile(path + filename):\n",
    "        stored_sampling = np.load(path + filename, allow_pickle=True)\n",
    "        full_sampling = np.concatenate((stored_sampling, new_sampling), axis=0)\n",
    "    else:\n",
    "        full_sampling = new_sampling\n",
    "        \n",
    "    np.save(path + filename, full_sampling)"
   ]
  },
  {
   "cell_type": "code",
   "execution_count": null,
   "metadata": {},
   "outputs": [],
   "source": [
    "config_manager = ConfigurationManager()\n",
    "config = config_manager.config\n",
    "\n",
    "reader = TrainingFileReader(path_to_training='../../training/laps/')\n",
    "transformer = Transformer(config)\n",
    "collector = Collector()\n",
    "\n",
    "filenames = ['lap_5_2020_01_24', 'lap_6_2020_01_24', 'lap_7_2020_01_24']\n",
    "experiments = [(1, 1), (4, 1), (4, 3), (8, 1), (16, 1)]\n",
    "\n",
    "memory = experiments[3]\n",
    "\n",
    "base_path = '../../training/'\n",
    "memory_string = 'n{}_m{}'.format(*memory)\n",
    "path = base_path + memory_string + '/'\n",
    "\n",
    "if not os.path.isdir(path):\n",
    "    os.mkdir(path)\n",
    "\n",
    "# NB this is steering specific\n",
    "for filename in filenames: \n",
    "    existing_count = len([fn for fn in os.listdir(path) if fn.startswith('frame_')])\n",
    "    \n",
    "    frames, numerics, diffs = read_stored_data(reader, transformer, filename, collector.numeric_columns(), collector.diff_columns())\n",
    "    mem_frames, mem_numerics, mem_diffs = create_memorized_dataset(frames, numerics, diffs, *memory)\n",
    "    \n",
    "    #balanced_frames, balanced_numerics, balanced_diffs = balanced_steering_sampling(mem_frames, mem_numerics, mem_diffs, p_drop=0.95)\n",
    "    print(mem_frames.shape)\n",
    "    print(mem_numerics.shape)\n",
    "    print(mem_diffs.shape)\n",
    "    \n",
    "    for i in range(0, mem_frames.shape[0]):\n",
    "        np.save(path + GenFiles.frame.format(memory_string, i + existing_count), mem_frames[i])\n",
    "        np.save(path + GenFiles.steer.format(memory_string, i + existing_count), mem_numerics[i])\n",
    "        np.save(path + GenFiles.steer_diff.format(memory_string, i + existing_count), mem_diffs[i])\n",
    "    \n",
    "    steer_diffs_upsampling = upsampling(mem_diffs[:, 1])\n",
    "    store_upsampling(steer_diffs_upsampling, path, GenFiles.steer_sampling.format(memory_string))\n",
    "    \n",
    "    print(steer_diffs_upsampling.shape)\n",
    "    gc.collect()"
   ]
  },
  {
   "cell_type": "code",
   "execution_count": null,
   "metadata": {},
   "outputs": [],
   "source": [
    "stuff = np.random.rand(5)\n",
    "times = np.arange(1, 6)\n",
    "\n",
    "np.repeat(stuff, times)"
   ]
  },
  {
   "cell_type": "code",
   "execution_count": null,
   "metadata": {},
   "outputs": [],
   "source": [
    "# TODO create separate files and balancing for throttle and gear\n",
    "some_turbo_counts = np.zeros_like(balanced_diffs[:, 1])\n",
    "\n",
    "bins = np.arange(-0.6, 0.6, 0.001)\n",
    "indices = np.digitize(balanced_diffs[:, 1], bins)\n",
    "unique, counts = np.unique(indices, return_counts=True)\n",
    "count_dict = dict(zip(unique, counts))\n",
    "max_count = np.max(counts)\n",
    "\n",
    "for i in range(0, some_turbo_counts.shape[0]):\n",
    "    count = count_dict[indices[i]]\n",
    "    some_turbo_counts[i] = max_count // count\n",
    "\n",
    "print(balanced_diffs[1050:1100, 1])\n",
    "print(some_turbo_counts[1050:1100])"
   ]
  },
  {
   "cell_type": "code",
   "execution_count": null,
   "metadata": {},
   "outputs": [],
   "source": [
    "plot_elems = []\n",
    "#plot_elems.append({'data': mem_diffs[:, 1], 'label': 'pre', 'alpha': 0.5})\n",
    "plot_elems.append({'data': balanced_diffs[:, 1], 'label': 'post', 'alpha': 0.5})\n",
    "bins = np.arange(-0.6, 0.6, 0.01)\n",
    "\n",
    "plot_stuff('steering', plot_elems, bins)"
   ]
  }
 ],
 "metadata": {
  "kernelspec": {
   "display_name": "Python 3",
   "language": "python",
   "name": "python3"
  },
  "language_info": {
   "codemirror_mode": {
    "name": "ipython",
    "version": 3
   },
   "file_extension": ".py",
   "mimetype": "text/x-python",
   "name": "python",
   "nbconvert_exporter": "python",
   "pygments_lexer": "ipython3",
   "version": "3.7.4"
  },
  "pycharm": {
   "stem_cell": {
    "cell_type": "raw",
    "metadata": {
     "collapsed": false
    },
    "source": []
   }
  }
 },
 "nbformat": 4,
 "nbformat_minor": 2
}
