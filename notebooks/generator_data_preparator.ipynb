{
 "cells": [
  {
   "cell_type": "code",
   "execution_count": 1,
   "metadata": {},
   "outputs": [],
   "source": [
    "%matplotlib inline\n",
    "import os\n",
    "import glob\n",
    "import sys\n",
    "import gc\n",
    "import numpy as np\n",
    "import matplotlib.pyplot as plt\n",
    "from tqdm.notebook import tqdm\n",
    "\n",
    "module_path = os.path.abspath(os.path.join('..'))\n",
    "if module_path not in sys.path:\n",
    "    sys.path.append(module_path)\n",
    "\n",
    "from commons.configuration_manager import ConfigurationManager\n",
    "from src.learning.training.collector import Collector\n",
    "from src.learning.training.generator import GenFiles\n",
    "from src.learning.training.training_file_reader import TrainingFileReader\n",
    "from notebooks.notebook_commons import read_shifted_numerics_and_targets, read_stored_data_with_shifted_labels, create_memorized_dataset\n",
    "from src.utilities.transformer import Transformer"
   ]
  },
  {
   "cell_type": "code",
   "execution_count": 25,
   "metadata": {},
   "outputs": [],
   "source": [
    "def plot_stuff(title, plot_elems, bins=None, figsize=(18, 10)):\n",
    "    fig=plt.figure(figsize=figsize)\n",
    "    plt.title(title)\n",
    "    #plt.ylabel('dunno')\n",
    "    plt.xlabel('Count')\n",
    "    \n",
    "    for plot_elem in plot_elems:\n",
    "        plt.hist(plot_elem['data'], bins=bins, label=plot_elem['label'], alpha=plot_elem['alpha'])\n",
    "\n",
    "    plt.grid(axis='both')\n",
    "    plt.legend(loc='best')\n",
    "    plt.show()\n",
    "\n",
    "def half_max_thresh(counts: dict):\n",
    "    return int(np.mean(counts) +  (np.max(counts) - np.mean(counts)) // 2)\n",
    "\n",
    "def double_mean_thresh(counts: dict):\n",
    "    return int(2 * np.mean(counts))\n",
    "    \n",
    "def downsample_indexes(data_column, sample_threshold, bin_size=0.01):\n",
    "    downsample_multipliers = np.ones(data_column.shape, dtype=int)\n",
    "    \n",
    "    bins = np.arange(-1.0, 1.0, bin_size)\n",
    "    indices = np.digitize(data_column, bins)\n",
    "    unique_bins, counts = np.unique(indices, return_counts=True)\n",
    "    sorted_counts = np.sort(counts)\n",
    "    \n",
    "    count_dict = dict(zip(unique_bins, counts))\n",
    "    threshold_count = sample_threshold(counts)\n",
    "    \n",
    "    for unique_bin, count in count_dict.items():\n",
    "        if count > threshold_count:\n",
    "            indexes = np.where(indices == unique_bin)[0]\n",
    "            to_del_indexes = np.random.choice(indexes, count - threshold_count, replace=False)\n",
    "            \n",
    "            downsample_multipliers[to_del_indexes] = 0\n",
    "    \n",
    "    return downsample_multipliers\n",
    "\n",
    "\n",
    "def upsample_indexes(data_column, downsampling, sample_threshold, bin_size=0.01):\n",
    "    upsample_multipliers = np.zeros(data_column.shape, dtype=int)\n",
    "    bins = np.arange(-1.0, 1.0, bin_size)\n",
    "    indices = np.digitize(data_column, bins)\n",
    "    \n",
    "    unique_bins, counts = np.unique(indices, return_counts=True)\n",
    "    count_dict = dict(zip(unique_bins, counts))\n",
    "    threshold_count = sample_threshold(counts)\n",
    "    \n",
    "    for i in range(0, upsample_multipliers.shape[0]):\n",
    "        count = count_dict[indices[i]]\n",
    "        if count >= threshold_count:\n",
    "            upsample_multipliers[i] = downsampling[i]\n",
    "        else:\n",
    "            upsample_multipliers[i] = int(threshold_count / count)\n",
    "    \n",
    "    return upsample_multipliers\n",
    "\n",
    "\n",
    "# At current recording speed, 50 instances _should_ come up to about 5 seconds\n",
    "def sample_recovery(gear_column, downsampling, count_to_crash=50, peek_limit=100):\n",
    "    recovery_sampling = np.copy(downsampling)\n",
    "    last_gear = None\n",
    "    \n",
    "    recovery_start = None\n",
    "    recovery_end = None\n",
    "    \n",
    "    for index, current_gear in enumerate(gear_column):\n",
    "        if last_gear is None:\n",
    "            last_gear = current_gear\n",
    "            continue\n",
    "        \n",
    "        if last_gear == 1 and current_gear == 0 and is_reversing_ahead(gear_column, index, peek_limit):\n",
    "            recovery_start = index\n",
    "        \n",
    "        if last_gear == 0 and current_gear == 1 and is_reversing_before(gear_column, index, peek_limit):\n",
    "            recovery_end = index\n",
    "        \n",
    "        if recovery_start is not None and recovery_end is not None:\n",
    "            recovery_sampling[recovery_start:recovery_end] = 1\n",
    "            \n",
    "            bad_driving_start = recovery_start - count_to_crash\n",
    "            if bad_driving_start >= 0:\n",
    "                recovery_sampling[bad_driving_start : recovery_start] = 0\n",
    "            else:\n",
    "                recovery_sampling[0 : recovery_start] = 0\n",
    "            \n",
    "            recovery_start = None\n",
    "            recovery_end = None\n",
    "        \n",
    "        last_gear = current_gear\n",
    "    return recovery_sampling\n",
    "\n",
    "\n",
    "def is_reversing_ahead(gear_column, index, peek_limit):\n",
    "    end_index = index + peek_limit\n",
    "    \n",
    "    if end_index >= gear_column.shape[0]:\n",
    "        end_index = gear_column.shape[0] - 1\n",
    "        \n",
    "    for i in range(index, end_index):\n",
    "        if gear_column[i] == -1:\n",
    "            return True\n",
    "        \n",
    "    return False\n",
    "\n",
    "\n",
    "def is_reversing_before(gear_column, index, peek_limit):\n",
    "    start_index = index - peek_limit\n",
    "    \n",
    "    if start_index < 0:\n",
    "        start_index = 0\n",
    "        \n",
    "    for i in range(index, start_index, -1):\n",
    "        if gear_column[i] == -1:\n",
    "            return True\n",
    "        \n",
    "    return False\n",
    "\n",
    "\n",
    "def store_sampling(new_sampling, path, filename):\n",
    "    if os.path.isfile(path + filename):\n",
    "        stored_sampling = np.load(path + filename, allow_pickle=True)\n",
    "        full_sampling = np.concatenate((stored_sampling, new_sampling), axis=0)\n",
    "    else:\n",
    "        full_sampling = new_sampling\n",
    "        \n",
    "    np.save(path + filename, full_sampling)"
   ]
  },
  {
   "cell_type": "code",
   "execution_count": 28,
   "metadata": {},
   "outputs": [
    {
     "name": "stdout",
     "output_type": "stream",
     "text": [
      "[ 1.  1.  1.  1.  1.  1.  1.  1.  1.  1.  1.  1.  1.  1.  1.  1.  1.  1.\n",
      "  1.  1.  1.  1.  1.  1.  1.  1.  1.  1.  1.  1.  1.  1.  1.  1.  1.  1.\n",
      "  1.  1.  1.  1.  1.  1.  1.  1.  1.  1.  1.  1.  1.  1.  1.  1.  1.  1.\n",
      "  1.  1.  1.  1.  1.  1.  0.  0.  0.  0.  0.  0.  0.  0.  0.  0. -1. -1.\n",
      " -1. -1. -1. -1. -1. -1. -1. -1. -1. -1. -1. -1. -1. -1. -1. -1. -1. -1.\n",
      " -1. -1. -1. -1. -1. -1. -1. -1. -1. -1. -1. -1. -1. -1. -1. -1. -1. -1.\n",
      " -1. -1. -1. -1. -1. -1. -1. -1. -1. -1. -1. -1. -1. -1. -1. -1. -1. -1.\n",
      " -1. -1. -1. -1. -1. -1. -1. -1. -1. -1. -1. -1. -1. -1.  0.  0.  0.  0.\n",
      "  0.  0.  0.  0.  0.  0.  1.  1.  1.  1.  1.  1.  1.  1.  1.  1.  1.  1.\n",
      "  1.  1.  1.  1.  1.  1.  1.  1.  1.  1.  1.  1.  1.  1.  1.  1.  1.  1.\n",
      "  1.  1.  1.  1.  1.  1.  1.  1.  1.  1.  1.  1.  1.  1.  1.  1.  1.  1.\n",
      "  1.  1.  1.  1.  1.  1.  1.  1.  1.  1.  1.  1.  1.  1.  1.  1.  1.  1.\n",
      "  1.  1.  1.  1.  1.  1.  1.  1.  1.  1.  1.  1.  1.  1.  1.  1.  1.  1.\n",
      "  1.  1.  1.  1.  1.  1.  1.  1.  1.  1.  1.  1.  1.  1.  1.  1.]\n",
      "[0. 0. 0. 0. 0. 0. 0. 0. 0. 0. 0. 0. 0. 0. 0. 0. 0. 0. 0. 0. 0. 0. 0. 0.\n",
      " 0. 0. 0. 0. 0. 0. 0. 0. 0. 0. 0. 0. 0. 0. 0. 0. 0. 0. 0. 0. 0. 0. 0. 0.\n",
      " 0. 0. 0. 0. 0. 0. 0. 0. 0. 0. 0. 0. 1. 1. 1. 1. 1. 1. 1. 1. 1. 1. 1. 1.\n",
      " 1. 1. 1. 1. 1. 1. 1. 1. 1. 1. 1. 1. 1. 1. 1. 1. 1. 1. 1. 1. 1. 1. 1. 1.\n",
      " 1. 1. 1. 1. 1. 1. 1. 1. 1. 1. 1. 1. 1. 1. 1. 1. 1. 1. 1. 1. 1. 1. 1. 1.\n",
      " 1. 1. 1. 1. 1. 1. 1. 1. 1. 1. 1. 1. 1. 1. 1. 1. 1. 1. 1. 1. 1. 1. 1. 1.\n",
      " 1. 1. 1. 1. 1. 1. 0. 0. 0. 0. 0. 0. 0. 0. 0. 0. 0. 0. 0. 0. 0. 0. 0. 0.\n",
      " 0. 0. 0. 0. 0. 0. 0. 0. 0. 0. 0. 0. 0. 0. 0. 0. 0. 0. 0. 0. 0. 0. 0. 0.\n",
      " 0. 0. 0. 0. 0. 0. 0. 0. 0. 0. 0. 0. 0. 0. 0. 0. 0. 0. 0. 0. 0. 0. 0. 0.\n",
      " 0. 0. 0. 0. 0. 0. 0. 0. 0. 0. 0. 0. 0. 0. 0. 0. 0. 0. 0. 0. 0. 0. 0. 0.\n",
      " 0. 0. 0. 0. 0. 0. 0. 0. 0. 0.]\n",
      "(array([ 60,  61,  62,  63,  64,  65,  66,  67,  68,  69, 140, 141, 142,\n",
      "       143, 144, 145, 146, 147, 148, 149]),)\n",
      "(array([ 60,  61,  62,  63,  64,  65,  66,  67,  68,  69,  70,  71,  72,\n",
      "        73,  74,  75,  76,  77,  78,  79,  80,  81,  82,  83,  84,  85,\n",
      "        86,  87,  88,  89,  90,  91,  92,  93,  94,  95,  96,  97,  98,\n",
      "        99, 100, 101, 102, 103, 104, 105, 106, 107, 108, 109, 110, 111,\n",
      "       112, 113, 114, 115, 116, 117, 118, 119, 120, 121, 122, 123, 124,\n",
      "       125, 126, 127, 128, 129, 130, 131, 132, 133, 134, 135, 136, 137,\n",
      "       138, 139, 140, 141, 142, 143, 144, 145, 146, 147, 148, 149]),)\n"
     ]
    }
   ],
   "source": [
    "test_gear = np.ones(250)\n",
    "test_gear[60:70] = 0\n",
    "test_gear[70:140] = -1\n",
    "test_gear[140:150] = 0\n",
    "\n",
    "sample = sample_recovery(test_gear, np.zeros_like(test_gear))\n",
    "print(test_gear)\n",
    "print(sample)\n",
    "\n",
    "print(np.where(test_gear == 0))\n",
    "print(np.where(sample == 1))"
   ]
  },
  {
   "cell_type": "code",
   "execution_count": 4,
   "metadata": {},
   "outputs": [
    {
     "name": "stdout",
     "output_type": "stream",
     "text": [
      "['lap_13_2020_02_10', 'lap_4_2020_01_24', 'lap_18_2020_02_18', 'lap_10_2020_02_07', 'lap_8_2020_02_07', 'lap_20_2020_02_18', 'lap_14_2020_02_10', 'lap_16_2020_02_18', 'lap_12_2020_02_10', 'lap_7_2020_01_24', 'lap_6_2020_01_24', 'lap_25_2020_02_18', 'lap_9_2020_02_07', 'lap_17_2020_02_18', 'lap_23_2020_02_18', 'lap_22_2020_02_18', 'lap_5_2020_01_24', 'lap_15_2020_02_18', 'lap_2_2020_01_24', 'lap_19_2020_02_18', 'lap_27_2020_02_18', 'lap_26_2020_02_18', 'lap_28_2020_02_18', 'lap_3_2020_01_24', 'lap_11_2020_02_07', 'lap_24_2020_02_18', 'lap_1_2020_01_24', 'lap_21_2020_02_18', 'lap_29_2020_02_18']\n"
     ]
    }
   ],
   "source": [
    "config_manager = ConfigurationManager()\n",
    "config = config_manager.config\n",
    "\n",
    "base_path = '../../training/'\n",
    "\n",
    "reader = TrainingFileReader(path_to_training=base_path + 'laps/')\n",
    "collector = Collector()\n",
    "\n",
    "filenames = [fn.split('.')[0] for fn in os.listdir(base_path + 'laps/') if fn.endswith('.avi')]\n",
    "print(filenames)\n",
    "\n",
    "#filenames = ['lap_1_2020_01_24', 'lap_2_2020_01_24', 'lap_9_2020_02_07', 'lap_10_2020_02_07', \n",
    "#             'lap_11_2020_02_07', 'lap_12_2020_02_10', 'lap_13_2020_02_10', 'lap_14_2020_02_10']\n",
    "\n",
    "memory_variants = [(1, 1), (4, 1), (4, 4)]\n",
    "memory_variants = [(1, 1)]"
   ]
  },
  {
   "cell_type": "code",
   "execution_count": 5,
   "metadata": {},
   "outputs": [
    {
     "data": {
      "application/vnd.jupyter.widget-view+json": {
       "model_id": "d57cd0a00f8346c392d3347494259a8d",
       "version_major": 2,
       "version_minor": 0
      },
      "text/plain": [
       "HBox(children=(FloatProgress(value=0.0, max=1.0), HTML(value='')))"
      ]
     },
     "metadata": {},
     "output_type": "display_data"
    },
    {
     "name": "stdout",
     "output_type": "stream",
     "text": [
      "\r",
      "Writing n1_m1 files.\n"
     ]
    },
    {
     "data": {
      "application/vnd.jupyter.widget-view+json": {
       "model_id": "f773b750fa3149278a72b0af2ed9243b",
       "version_major": 2,
       "version_minor": 0
      },
      "text/plain": [
       "HBox(children=(FloatProgress(value=0.0, max=29.0), HTML(value='')))"
      ]
     },
     "metadata": {},
     "output_type": "display_data"
    },
    {
     "name": "stdout",
     "output_type": "stream",
     "text": [
      "\n",
      "\r",
      "kinda done\n",
      "\n"
     ]
    }
   ],
   "source": [
    "# NB this is shifted steering specific, cut half wide frames\n",
    "total_diff = None\n",
    "\n",
    "for memory in tqdm(memory_variants):\n",
    "    transformer = Transformer(config, memory)\n",
    "    \n",
    "    len_diff = (memory[0] - 1) * memory[1]\n",
    "    memory_string = 'n{}_m{}'.format(*memory)\n",
    "    path = base_path + memory_string + '/'\n",
    "    \n",
    "    if not os.path.isdir(path):\n",
    "        os.mkdir(path)\n",
    "    \n",
    "    old_genfiles = glob.glob(path + '*')\n",
    "    for old_genfile in old_genfiles:\n",
    "        os.remove(old_genfile)\n",
    "    \n",
    "    tqdm.write('Writing n{}_m{} files.'.format(*memory))    \n",
    "    \n",
    "    for filename in tqdm(filenames):\n",
    "        mem_slice_frames = []\n",
    "        mem_slice_numerics = []\n",
    "        \n",
    "        existing_count = len([fn for fn in os.listdir(path) if fn.startswith('frame_')])\n",
    "        \n",
    "        numerics, diffs = read_shifted_numerics_and_targets(reader, filename, collector.numeric_columns(), collector.numeric_columns())\n",
    "        stored_i = 0\n",
    "        \n",
    "        for i, frame in reader.read_video_gen(filename + '.avi', diffs.shape[0]):\n",
    "            mem_frame = transformer.session_frame_wide(frame, mem_slice_frames)\n",
    "            mem_numeric = transformer.session_numeric_np(numerics[i], mem_slice_numerics)\n",
    "            \n",
    "            if mem_frame is None or mem_numeric is None:\n",
    "                continue\n",
    "            \n",
    "            np.save(path + GenFiles.frame.format(memory_string, stored_i + existing_count), mem_frame)\n",
    "            np.save(path + GenFiles.steer.format(memory_string, stored_i + existing_count), mem_numeric)\n",
    "            np.save(path + GenFiles.steer_diff.format(memory_string, stored_i + existing_count), diffs[i])\n",
    "            stored_i += 1\n",
    "            \n",
    "        if total_diff is None:\n",
    "            total_diff = diffs[len_diff:].copy()\n",
    "        else:\n",
    "            total_diff = np.concatenate((total_diff, diffs[len_diff:].copy()))\n",
    "\n",
    "        gc.collect()\n",
    "\n",
    "    sampling = downsample_indexes(total_diff[:, 1], half_max_thresh)\n",
    "    #sampling = downsample_indexes(total_diff[:, 1], double_mean_thresh)\n",
    "    #sampling = upsample_indexes(total_diff[:, 1], sampling, half_max_thresh)\n",
    "    #sampling = upsample_indexes(total_diff[:, 1], sampling, double_mean_thresh)\n",
    "    store_sampling(sampling, path, GenFiles.steer_sampling.format(memory_string))\n",
    "    \n",
    "    tqdm.write('kinda done')"
   ]
  },
  {
   "cell_type": "code",
   "execution_count": 6,
   "metadata": {},
   "outputs": [
    {
     "name": "stdout",
     "output_type": "stream",
     "text": [
      "214882\n",
      "214882\n",
      "214882\n",
      "(214882, 4)\n"
     ]
    }
   ],
   "source": [
    "print(len([fn for fn in os.listdir(path) if fn.startswith('frame_')]))\n",
    "print(len([fn for fn in os.listdir(path) if fn.startswith('steer_n1')]))\n",
    "print(len([fn for fn in os.listdir(path) if fn.startswith('steer_diff')]))\n",
    "print(total_diff.shape)"
   ]
  },
  {
   "cell_type": "code",
   "execution_count": 9,
   "metadata": {},
   "outputs": [],
   "source": [
    "sampling = downsample_indexes(total_diff[:, 1], double_mean_thresh)\n",
    "samp_diffs = np.repeat(total_diff, sampling, axis=0)"
   ]
  },
  {
   "cell_type": "code",
   "execution_count": 10,
   "metadata": {},
   "outputs": [
    {
     "data": {
      "image/png": "[encoded data removed]",
      "text/plain": [
       "<Figure size 1296x720 with 1 Axes>"
      ]
     },
     "metadata": {
      "needs_background": "light"
     },
     "output_type": "display_data"
    }
   ],
   "source": [
    "plot_elems = []\n",
    "plot_elems.append({'data': total_diff[:, 1], 'label': 'raw', 'alpha': 0.5})\n",
    "plot_elems.append({'data': samp_diffs[:, 1], 'label': 'post-sampling', 'alpha': 0.8})\n",
    "bins = np.arange(-1.0, 1.01, 0.01)\n",
    "\n",
    "plot_stuff('steering', plot_elems, bins)"
   ]
  }
 ],
 "metadata": {
  "kernelspec": {
   "display_name": "Python 3",
   "language": "python",
   "name": "python3"
  },
  "language_info": {
   "codemirror_mode": {
    "name": "ipython",
    "version": 3
   },
   "file_extension": ".py",
   "mimetype": "text/x-python",
   "name": "python",
   "nbconvert_exporter": "python",
   "pygments_lexer": "ipython3",
   "version": "3.7.6"
  },
  "pycharm": {
   "stem_cell": {
    "cell_type": "raw",
    "metadata": {
     "collapsed": false
    },
    "source": []
   }
  }
 },
 "nbformat": 4,
 "nbformat_minor": 2
}
