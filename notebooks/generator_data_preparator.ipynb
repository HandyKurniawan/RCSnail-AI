{
 "cells": [
  {
   "cell_type": "code",
   "execution_count": 2,
   "metadata": {},
   "outputs": [],
   "source": [
    "%matplotlib inline\n",
    "import os\n",
    "import glob\n",
    "import sys\n",
    "import gc\n",
    "import numpy as np\n",
    "import matplotlib.pyplot as plt\n",
    "from tqdm.notebook import tqdm\n",
    "\n",
    "module_path = os.path.abspath(os.path.join('..'))\n",
    "if module_path not in sys.path:\n",
    "    sys.path.append(module_path)\n",
    "\n",
    "from commons.configuration_manager import ConfigurationManager\n",
    "from src.learning.training.collector import Collector\n",
    "from src.learning.training.generator import GenFiles\n",
    "from src.learning.training.training_file_reader import TrainingFileReader\n",
    "from notebooks.notebook_commons import read_stored_data_with_labels, read_stored_data_with_shifted_labels, create_memorized_dataset\n",
    "from src.utilities.transformer import Transformer"
   ]
  },
  {
   "cell_type": "code",
   "execution_count": 3,
   "metadata": {},
   "outputs": [],
   "source": [
    "def plot_stuff(title, plot_elems, bins=None, figsize=(18, 10)):\n",
    "    fig=plt.figure(figsize=figsize)\n",
    "    plt.title(title)\n",
    "    #plt.ylabel('dunno')\n",
    "    plt.xlabel('Count')\n",
    "    \n",
    "    for plot_elem in plot_elems:\n",
    "        plt.hist(plot_elem['data'], bins=bins, label=plot_elem['label'], alpha=plot_elem['alpha'])\n",
    "\n",
    "    plt.grid(axis='both')\n",
    "    plt.legend(loc='best')\n",
    "    plt.show()\n",
    "\n",
    "\n",
    "def downsample_zeros(frames, numerics, diffs, data_column, bin_size=0.001): \n",
    "    bins = np.arange(-1.0, 1.0, bin_size)\n",
    "    indices = np.digitize(data_column, bins)\n",
    "    unique_bins, counts = np.unique(indices, return_counts=True)\n",
    "    sorted_counts = np.sort(counts) \n",
    "    \n",
    "    zero_indexes = np.where(data_column == 0.0)[0]\n",
    "    count_to_del = sorted_counts[-1] - sorted_counts[-2]\n",
    "    zero_indexes_to_del = np.random.choice(zero_indexes, count_to_del, replace=False)\n",
    "    \n",
    "    sampled_frames = np.delete(frames, zero_indexes_to_del, axis=0)\n",
    "    sampled_numerics = np.delete(numerics, zero_indexes_to_del, axis=0)\n",
    "    sampled_diffs = np.delete(diffs, zero_indexes_to_del, axis=0)\n",
    "    \n",
    "    return sampled_frames, sampled_numerics, sampled_diffs\n",
    "\n",
    "def downsample_half_max(frames, numerics, diffs, data_column, bin_size=0.01):\n",
    "    to_del = None\n",
    "    \n",
    "    bins = np.arange(-1.0, 1.0, bin_size)\n",
    "    indices = np.digitize(data_column, bins)\n",
    "    unique_bins, counts = np.unique(indices, return_counts=True)\n",
    "    sorted_counts = np.sort(counts)\n",
    "    \n",
    "    count_dict = dict(zip(unique_bins, counts))\n",
    "    threshold_count = int(np.mean(counts) +  (np.max(counts) - np.mean(counts)) // 2)\n",
    "    \n",
    "    for unique_bin, count in count_dict.items():\n",
    "        if count > threshold_count:\n",
    "            indexes = np.where(indices == unique_bin)[0]\n",
    "            to_del_indexes = np.random.choice(indexes, count - threshold_count, replace=False)\n",
    "            \n",
    "            if to_del is None:\n",
    "                to_del = to_del_indexes\n",
    "            else:\n",
    "                to_del = np.concatenate((to_del, to_del_indexes))\n",
    "    \n",
    "    sampled_frames = np.delete(frames, to_del, axis=0)\n",
    "    sampled_numerics = np.delete(numerics, to_del, axis=0)\n",
    "    sampled_diffs = np.delete(diffs, to_del, axis=0)\n",
    "    \n",
    "    return sampled_frames, sampled_numerics, sampled_diffs\n",
    "\n",
    "def upsampling(data_column, bin_size=0.001):\n",
    "    upsample_multipliers = np.zeros(data_column.shape, dtype=int)\n",
    "    bins = np.arange(-1.0, 1.0, bin_size)\n",
    "    indices = np.digitize(data_column, bins)\n",
    "    \n",
    "    unique_bins, counts = np.unique(indices, return_counts=True)\n",
    "    count_dict = dict(zip(unique_bins, counts))\n",
    "    max_count = np.max(counts)\n",
    "\n",
    "    for i in range(0, upsample_multipliers.shape[0]):\n",
    "        count = count_dict[indices[i]]\n",
    "        upsample_multipliers[i] = max_count // count\n",
    "    \n",
    "    return upsample_multipliers\n",
    "\n",
    "def store_upsampling(new_sampling, path, filename):\n",
    "    if os.path.isfile(path + filename):\n",
    "        stored_sampling = np.load(path + filename, allow_pickle=True)\n",
    "        full_sampling = np.concatenate((stored_sampling, new_sampling), axis=0)\n",
    "    else:\n",
    "        full_sampling = new_sampling\n",
    "        \n",
    "    np.save(path + filename, full_sampling)"
   ]
  },
  {
   "cell_type": "code",
   "execution_count": 4,
   "metadata": {},
   "outputs": [],
   "source": [
    "config_manager = ConfigurationManager()\n",
    "config = config_manager.config\n",
    "\n",
    "reader = TrainingFileReader(path_to_training='../../training/laps/')\n",
    "transformer = Transformer(config)\n",
    "collector = Collector()\n",
    "\n",
    "filenames = ['lap_1_2020_01_24', 'lap_2_2020_01_24', 'lap_3_2020_01_24', 'lap_4_2020_01_24', \n",
    "             'lap_5_2020_01_24', 'lap_6_2020_01_24', 'lap_7_2020_01_24', 'lap_8_2020_02_07', \n",
    "             'lap_9_2020_02_07', 'lap_10_2020_02_07', 'lap_11_2020_02_07', 'lap_12_2020_02_10', \n",
    "             'lap_13_2020_02_10', 'lap_14_2020_02_10']\n",
    "filenames = ['lap_1_2020_01_24', 'lap_2_2020_01_24', 'lap_3_2020_01_24', \n",
    "             'lap_5_2020_01_24', 'lap_6_2020_01_24', 'lap_7_2020_01_24', 'lap_8_2020_02_07', \n",
    "             'lap_9_2020_02_07', 'lap_11_2020_02_07', \n",
    "             'lap_13_2020_02_10', 'lap_14_2020_02_10']\n",
    "#filenames = ['lap_1_2020_01_24', 'lap_2_2020_01_24', 'lap_9_2020_02_07', 'lap_10_2020_02_07', \n",
    "#             'lap_11_2020_02_07', 'lap_12_2020_02_10', 'lap_13_2020_02_10', 'lap_14_2020_02_10']\n",
    "memory_variants = [(1, 1), (4, 1), (4, 4)]\n",
    "memory_variants = [(4, 1)]\n",
    "\n",
    "base_path = '../../training/'"
   ]
  },
  {
   "cell_type": "code",
   "execution_count": null,
   "metadata": {},
   "outputs": [],
   "source": [
    "# NB this is shifted steering specific, resized to small resolution\n",
    "\n",
    "for memory in tqdm(memory_variants):\n",
    "    memory_string = 'n{}_m{}'.format(*memory)\n",
    "    path = base_path + memory_string + '/'\n",
    "\n",
    "    if not os.path.isdir(path):\n",
    "        os.mkdir(path)\n",
    "    \n",
    "    old_genfiles = glob.glob(path + '*')\n",
    "    for old_genfile in old_genfiles:\n",
    "        os.remove(old_genfile)\n",
    "    \n",
    "    tqdm.write('Writing n{}_m{} files.'.format(*memory))    \n",
    "\n",
    "    for filename in tqdm(filenames): \n",
    "        existing_count = len([fn for fn in os.listdir(path) if fn.startswith('frame_')])\n",
    "\n",
    "        frames, numerics, diffs = read_stored_data_with_shifted_labels(reader, transformer.resize_and_normalize_video_shifted, filename, collector.numeric_columns(), collector.numeric_columns())\n",
    "        mem_frames, mem_numerics, mem_diffs = create_memorized_dataset(frames, numerics, diffs, *memory)\n",
    "        mem_frames, mem_numerics, mem_diffs = downsample_half_max(mem_frames, mem_numerics, mem_diffs, mem_diffs[:, 1])\n",
    "        \n",
    "        for i in range(0, mem_frames.shape[0]):\n",
    "            np.save(path + GenFiles.frame.format(memory_string, i + existing_count), mem_frames[i])\n",
    "            np.save(path + GenFiles.steer.format(memory_string, i + existing_count), mem_numerics[i])\n",
    "            np.save(path + GenFiles.steer_diff.format(memory_string, i + existing_count), mem_diffs[i])\n",
    "    \n",
    "        steer_diffs_upsampling = upsampling(mem_diffs[:, 1])\n",
    "        store_upsampling(steer_diffs_upsampling, path, GenFiles.steer_sampling.format(memory_string))\n",
    "\n",
    "        gc.collect()\n",
    "    tqdm.write('kinda done')"
   ]
  },
  {
   "cell_type": "code",
   "execution_count": null,
   "metadata": {},
   "outputs": [],
   "source": [
    "a = np.random.rand(5)\n",
    "b = np.array([0, 0, 1, 1, 2])\n",
    "np.repeat(a, b)"
   ]
  },
  {
   "cell_type": "code",
   "execution_count": 6,
   "metadata": {},
   "outputs": [
    {
     "data": {
      "application/vnd.jupyter.widget-view+json": {
       "model_id": "82df9fdbc4d1475cbcb8381422788982",
       "version_major": 2,
       "version_minor": 0
      },
      "text/plain": [
       "HBox(children=(FloatProgress(value=0.0, max=1.0), HTML(value='')))"
      ]
     },
     "metadata": {},
     "output_type": "display_data"
    },
    {
     "name": "stdout",
     "output_type": "stream",
     "text": [
      "\r",
      "\r",
      "\r",
      "Writing n4_m1 files.\n"
     ]
    },
    {
     "data": {
      "application/vnd.jupyter.widget-view+json": {
       "model_id": "3374e0c7502a4adc95532cddb9ed01f8",
       "version_major": 2,
       "version_minor": 0
      },
      "text/plain": [
       "HBox(children=(FloatProgress(value=0.0, max=11.0), HTML(value='')))"
      ]
     },
     "metadata": {},
     "output_type": "display_data"
    },
    {
     "name": "stdout",
     "output_type": "stream",
     "text": [
      "(60, 180, 12)\n",
      "\n",
      "\n",
      "(60, 180, 12)\n",
      "(60, 180, 12)\n",
      "(60, 180, 12)\n",
      "(60, 180, 12)\n",
      "(60, 180, 12)\n",
      "(60, 180, 12)\n",
      "(60, 180, 12)\n",
      "(60, 180, 12)\n",
      "(60, 180, 12)\n",
      "(60, 180, 12)\n",
      "\n",
      "kinda done\n"
     ]
    },
    {
     "ename": "KeyboardInterrupt",
     "evalue": "",
     "output_type": "error",
     "traceback": [
      "\u001b[0;31m---------------------------------------------------------------------------\u001b[0m",
      "\u001b[0;31mKeyboardInterrupt\u001b[0m                         Traceback (most recent call last)",
      "\u001b[0;32m<ipython-input-6-08b823905a8e>\u001b[0m in \u001b[0;36m<module>\u001b[0;34m\u001b[0m\n\u001b[1;32m      1\u001b[0m \u001b[0;31m# NB this is shifted steering specific, cut half wide frames\u001b[0m\u001b[0;34m\u001b[0m\u001b[0;34m\u001b[0m\u001b[0;34m\u001b[0m\u001b[0m\n\u001b[1;32m      2\u001b[0m \u001b[0;34m\u001b[0m\u001b[0m\n\u001b[0;32m----> 3\u001b[0;31m \u001b[0;32mfor\u001b[0m \u001b[0mmemory\u001b[0m \u001b[0;32min\u001b[0m \u001b[0mtqdm\u001b[0m\u001b[0;34m(\u001b[0m\u001b[0mmemory_variants\u001b[0m\u001b[0;34m)\u001b[0m\u001b[0;34m:\u001b[0m\u001b[0;34m\u001b[0m\u001b[0;34m\u001b[0m\u001b[0m\n\u001b[0m\u001b[1;32m      4\u001b[0m     \u001b[0mmemory_string\u001b[0m \u001b[0;34m=\u001b[0m \u001b[0;34m'n{}_m{}'\u001b[0m\u001b[0;34m.\u001b[0m\u001b[0mformat\u001b[0m\u001b[0;34m(\u001b[0m\u001b[0;34m*\u001b[0m\u001b[0mmemory\u001b[0m\u001b[0;34m)\u001b[0m\u001b[0;34m\u001b[0m\u001b[0;34m\u001b[0m\u001b[0m\n\u001b[1;32m      5\u001b[0m     \u001b[0mpath\u001b[0m \u001b[0;34m=\u001b[0m \u001b[0mbase_path\u001b[0m \u001b[0;34m+\u001b[0m \u001b[0mmemory_string\u001b[0m \u001b[0;34m+\u001b[0m \u001b[0;34m'/'\u001b[0m\u001b[0;34m\u001b[0m\u001b[0;34m\u001b[0m\u001b[0m\n",
      "\u001b[0;32m~/miniconda3/envs/python37/lib/python3.7/site-packages/tqdm/notebook.py\u001b[0m in \u001b[0;36m__iter__\u001b[0;34m(self, *args, **kwargs)\u001b[0m\n\u001b[1;32m    215\u001b[0m     \u001b[0;32mdef\u001b[0m \u001b[0m__iter__\u001b[0m\u001b[0;34m(\u001b[0m\u001b[0mself\u001b[0m\u001b[0;34m,\u001b[0m \u001b[0;34m*\u001b[0m\u001b[0margs\u001b[0m\u001b[0;34m,\u001b[0m \u001b[0;34m**\u001b[0m\u001b[0mkwargs\u001b[0m\u001b[0;34m)\u001b[0m\u001b[0;34m:\u001b[0m\u001b[0;34m\u001b[0m\u001b[0;34m\u001b[0m\u001b[0m\n\u001b[1;32m    216\u001b[0m         \u001b[0;32mtry\u001b[0m\u001b[0;34m:\u001b[0m\u001b[0;34m\u001b[0m\u001b[0;34m\u001b[0m\u001b[0m\n\u001b[0;32m--> 217\u001b[0;31m             \u001b[0;32mfor\u001b[0m \u001b[0mobj\u001b[0m \u001b[0;32min\u001b[0m \u001b[0msuper\u001b[0m\u001b[0;34m(\u001b[0m\u001b[0mtqdm_notebook\u001b[0m\u001b[0;34m,\u001b[0m \u001b[0mself\u001b[0m\u001b[0;34m)\u001b[0m\u001b[0;34m.\u001b[0m\u001b[0m__iter__\u001b[0m\u001b[0;34m(\u001b[0m\u001b[0;34m*\u001b[0m\u001b[0margs\u001b[0m\u001b[0;34m,\u001b[0m \u001b[0;34m**\u001b[0m\u001b[0mkwargs\u001b[0m\u001b[0;34m)\u001b[0m\u001b[0;34m:\u001b[0m\u001b[0;34m\u001b[0m\u001b[0;34m\u001b[0m\u001b[0m\n\u001b[0m\u001b[1;32m    218\u001b[0m                 \u001b[0;31m# return super(tqdm...) will not catch exception\u001b[0m\u001b[0;34m\u001b[0m\u001b[0;34m\u001b[0m\u001b[0;34m\u001b[0m\u001b[0m\n\u001b[1;32m    219\u001b[0m                 \u001b[0;32myield\u001b[0m \u001b[0mobj\u001b[0m\u001b[0;34m\u001b[0m\u001b[0;34m\u001b[0m\u001b[0m\n",
      "\u001b[0;32m~/miniconda3/envs/python37/lib/python3.7/site-packages/tqdm/std.py\u001b[0m in \u001b[0;36m__iter__\u001b[0;34m(self)\u001b[0m\n\u001b[1;32m   1155\u001b[0m         \u001b[0mself\u001b[0m\u001b[0;34m.\u001b[0m\u001b[0mn\u001b[0m \u001b[0;34m=\u001b[0m \u001b[0mn\u001b[0m\u001b[0;34m\u001b[0m\u001b[0;34m\u001b[0m\u001b[0m\n\u001b[1;32m   1156\u001b[0m         \u001b[0mself\u001b[0m\u001b[0;34m.\u001b[0m\u001b[0mminiters\u001b[0m \u001b[0;34m=\u001b[0m \u001b[0mminiters\u001b[0m\u001b[0;34m\u001b[0m\u001b[0;34m\u001b[0m\u001b[0m\n\u001b[0;32m-> 1157\u001b[0;31m         \u001b[0mself\u001b[0m\u001b[0;34m.\u001b[0m\u001b[0mclose\u001b[0m\u001b[0;34m(\u001b[0m\u001b[0;34m)\u001b[0m\u001b[0;34m\u001b[0m\u001b[0;34m\u001b[0m\u001b[0m\n\u001b[0m\u001b[1;32m   1158\u001b[0m \u001b[0;34m\u001b[0m\u001b[0m\n\u001b[1;32m   1159\u001b[0m     \u001b[0;32mdef\u001b[0m \u001b[0mupdate\u001b[0m\u001b[0;34m(\u001b[0m\u001b[0mself\u001b[0m\u001b[0;34m,\u001b[0m \u001b[0mn\u001b[0m\u001b[0;34m=\u001b[0m\u001b[0;36m1\u001b[0m\u001b[0;34m)\u001b[0m\u001b[0;34m:\u001b[0m\u001b[0;34m\u001b[0m\u001b[0;34m\u001b[0m\u001b[0m\n",
      "\u001b[0;32m~/miniconda3/envs/python37/lib/python3.7/site-packages/tqdm/notebook.py\u001b[0m in \u001b[0;36mclose\u001b[0;34m(self, *args, **kwargs)\u001b[0m\n\u001b[1;32m    233\u001b[0m \u001b[0;34m\u001b[0m\u001b[0m\n\u001b[1;32m    234\u001b[0m     \u001b[0;32mdef\u001b[0m \u001b[0mclose\u001b[0m\u001b[0;34m(\u001b[0m\u001b[0mself\u001b[0m\u001b[0;34m,\u001b[0m \u001b[0;34m*\u001b[0m\u001b[0margs\u001b[0m\u001b[0;34m,\u001b[0m \u001b[0;34m**\u001b[0m\u001b[0mkwargs\u001b[0m\u001b[0;34m)\u001b[0m\u001b[0;34m:\u001b[0m\u001b[0;34m\u001b[0m\u001b[0;34m\u001b[0m\u001b[0m\n\u001b[0;32m--> 235\u001b[0;31m         \u001b[0msuper\u001b[0m\u001b[0;34m(\u001b[0m\u001b[0mtqdm_notebook\u001b[0m\u001b[0;34m,\u001b[0m \u001b[0mself\u001b[0m\u001b[0;34m)\u001b[0m\u001b[0;34m.\u001b[0m\u001b[0mclose\u001b[0m\u001b[0;34m(\u001b[0m\u001b[0;34m*\u001b[0m\u001b[0margs\u001b[0m\u001b[0;34m,\u001b[0m \u001b[0;34m**\u001b[0m\u001b[0mkwargs\u001b[0m\u001b[0;34m)\u001b[0m\u001b[0;34m\u001b[0m\u001b[0;34m\u001b[0m\u001b[0m\n\u001b[0m\u001b[1;32m    236\u001b[0m         \u001b[0;31m# If it was not run in a notebook, sp is not assigned, check for it\u001b[0m\u001b[0;34m\u001b[0m\u001b[0;34m\u001b[0m\u001b[0;34m\u001b[0m\u001b[0m\n\u001b[1;32m    237\u001b[0m         \u001b[0;32mif\u001b[0m \u001b[0mhasattr\u001b[0m\u001b[0;34m(\u001b[0m\u001b[0mself\u001b[0m\u001b[0;34m,\u001b[0m \u001b[0;34m'sp'\u001b[0m\u001b[0;34m)\u001b[0m\u001b[0;34m:\u001b[0m\u001b[0;34m\u001b[0m\u001b[0;34m\u001b[0m\u001b[0m\n",
      "\u001b[0;32m~/miniconda3/envs/python37/lib/python3.7/site-packages/tqdm/std.py\u001b[0m in \u001b[0;36mclose\u001b[0;34m(self)\u001b[0m\n\u001b[1;32m   1243\u001b[0m         \u001b[0;31m# decrement instance pos and remove from internal set\u001b[0m\u001b[0;34m\u001b[0m\u001b[0;34m\u001b[0m\u001b[0;34m\u001b[0m\u001b[0m\n\u001b[1;32m   1244\u001b[0m         \u001b[0mpos\u001b[0m \u001b[0;34m=\u001b[0m \u001b[0mabs\u001b[0m\u001b[0;34m(\u001b[0m\u001b[0mself\u001b[0m\u001b[0;34m.\u001b[0m\u001b[0mpos\u001b[0m\u001b[0;34m)\u001b[0m\u001b[0;34m\u001b[0m\u001b[0;34m\u001b[0m\u001b[0m\n\u001b[0;32m-> 1245\u001b[0;31m         \u001b[0mself\u001b[0m\u001b[0;34m.\u001b[0m\u001b[0m_decr_instances\u001b[0m\u001b[0;34m(\u001b[0m\u001b[0mself\u001b[0m\u001b[0;34m)\u001b[0m\u001b[0;34m\u001b[0m\u001b[0;34m\u001b[0m\u001b[0m\n\u001b[0m\u001b[1;32m   1246\u001b[0m \u001b[0;34m\u001b[0m\u001b[0m\n\u001b[1;32m   1247\u001b[0m         \u001b[0;31m# GUI mode\u001b[0m\u001b[0;34m\u001b[0m\u001b[0;34m\u001b[0m\u001b[0;34m\u001b[0m\u001b[0m\n",
      "\u001b[0;32m~/miniconda3/envs/python37/lib/python3.7/site-packages/tqdm/std.py\u001b[0m in \u001b[0;36m_decr_instances\u001b[0;34m(cls, instance)\u001b[0m\n\u001b[1;32m    562\u001b[0m             \u001b[0;32mif\u001b[0m \u001b[0;32mnot\u001b[0m \u001b[0mcls\u001b[0m\u001b[0;34m.\u001b[0m\u001b[0m_instances\u001b[0m \u001b[0;32mand\u001b[0m \u001b[0mcls\u001b[0m\u001b[0;34m.\u001b[0m\u001b[0mmonitor\u001b[0m\u001b[0;34m:\u001b[0m\u001b[0;34m\u001b[0m\u001b[0;34m\u001b[0m\u001b[0m\n\u001b[1;32m    563\u001b[0m                 \u001b[0;32mtry\u001b[0m\u001b[0;34m:\u001b[0m\u001b[0;34m\u001b[0m\u001b[0;34m\u001b[0m\u001b[0m\n\u001b[0;32m--> 564\u001b[0;31m                     \u001b[0mcls\u001b[0m\u001b[0;34m.\u001b[0m\u001b[0mmonitor\u001b[0m\u001b[0;34m.\u001b[0m\u001b[0mexit\u001b[0m\u001b[0;34m(\u001b[0m\u001b[0;34m)\u001b[0m\u001b[0;34m\u001b[0m\u001b[0;34m\u001b[0m\u001b[0m\n\u001b[0m\u001b[1;32m    565\u001b[0m                     \u001b[0;32mdel\u001b[0m \u001b[0mcls\u001b[0m\u001b[0;34m.\u001b[0m\u001b[0mmonitor\u001b[0m\u001b[0;34m\u001b[0m\u001b[0;34m\u001b[0m\u001b[0m\n\u001b[1;32m    566\u001b[0m                 \u001b[0;32mexcept\u001b[0m \u001b[0mAttributeError\u001b[0m\u001b[0;34m:\u001b[0m  \u001b[0;31m# pragma: nocover\u001b[0m\u001b[0;34m\u001b[0m\u001b[0;34m\u001b[0m\u001b[0m\n",
      "\u001b[0;32m~/miniconda3/envs/python37/lib/python3.7/site-packages/tqdm/_monitor.py\u001b[0m in \u001b[0;36mexit\u001b[0;34m(self)\u001b[0m\n\u001b[1;32m     51\u001b[0m         \u001b[0mself\u001b[0m\u001b[0;34m.\u001b[0m\u001b[0mwas_killed\u001b[0m\u001b[0;34m.\u001b[0m\u001b[0mset\u001b[0m\u001b[0;34m(\u001b[0m\u001b[0;34m)\u001b[0m\u001b[0;34m\u001b[0m\u001b[0;34m\u001b[0m\u001b[0m\n\u001b[1;32m     52\u001b[0m         \u001b[0;32mif\u001b[0m \u001b[0mself\u001b[0m \u001b[0;32mis\u001b[0m \u001b[0;32mnot\u001b[0m \u001b[0mcurrent_thread\u001b[0m\u001b[0;34m(\u001b[0m\u001b[0;34m)\u001b[0m\u001b[0;34m:\u001b[0m\u001b[0;34m\u001b[0m\u001b[0;34m\u001b[0m\u001b[0m\n\u001b[0;32m---> 53\u001b[0;31m             \u001b[0mself\u001b[0m\u001b[0;34m.\u001b[0m\u001b[0mjoin\u001b[0m\u001b[0;34m(\u001b[0m\u001b[0;34m)\u001b[0m\u001b[0;34m\u001b[0m\u001b[0;34m\u001b[0m\u001b[0m\n\u001b[0m\u001b[1;32m     54\u001b[0m         \u001b[0;32mreturn\u001b[0m \u001b[0mself\u001b[0m\u001b[0;34m.\u001b[0m\u001b[0mreport\u001b[0m\u001b[0;34m(\u001b[0m\u001b[0;34m)\u001b[0m\u001b[0;34m\u001b[0m\u001b[0;34m\u001b[0m\u001b[0m\n\u001b[1;32m     55\u001b[0m \u001b[0;34m\u001b[0m\u001b[0m\n",
      "\u001b[0;32m~/miniconda3/envs/python37/lib/python3.7/threading.py\u001b[0m in \u001b[0;36mjoin\u001b[0;34m(self, timeout)\u001b[0m\n\u001b[1;32m   1042\u001b[0m \u001b[0;34m\u001b[0m\u001b[0m\n\u001b[1;32m   1043\u001b[0m         \u001b[0;32mif\u001b[0m \u001b[0mtimeout\u001b[0m \u001b[0;32mis\u001b[0m \u001b[0;32mNone\u001b[0m\u001b[0;34m:\u001b[0m\u001b[0;34m\u001b[0m\u001b[0;34m\u001b[0m\u001b[0m\n\u001b[0;32m-> 1044\u001b[0;31m             \u001b[0mself\u001b[0m\u001b[0;34m.\u001b[0m\u001b[0m_wait_for_tstate_lock\u001b[0m\u001b[0;34m(\u001b[0m\u001b[0;34m)\u001b[0m\u001b[0;34m\u001b[0m\u001b[0;34m\u001b[0m\u001b[0m\n\u001b[0m\u001b[1;32m   1045\u001b[0m         \u001b[0;32melse\u001b[0m\u001b[0;34m:\u001b[0m\u001b[0;34m\u001b[0m\u001b[0;34m\u001b[0m\u001b[0m\n\u001b[1;32m   1046\u001b[0m             \u001b[0;31m# the behavior of a negative timeout isn't documented, but\u001b[0m\u001b[0;34m\u001b[0m\u001b[0;34m\u001b[0m\u001b[0;34m\u001b[0m\u001b[0m\n",
      "\u001b[0;32m~/miniconda3/envs/python37/lib/python3.7/threading.py\u001b[0m in \u001b[0;36m_wait_for_tstate_lock\u001b[0;34m(self, block, timeout)\u001b[0m\n\u001b[1;32m   1058\u001b[0m         \u001b[0;32mif\u001b[0m \u001b[0mlock\u001b[0m \u001b[0;32mis\u001b[0m \u001b[0;32mNone\u001b[0m\u001b[0;34m:\u001b[0m  \u001b[0;31m# already determined that the C code is done\u001b[0m\u001b[0;34m\u001b[0m\u001b[0;34m\u001b[0m\u001b[0m\n\u001b[1;32m   1059\u001b[0m             \u001b[0;32massert\u001b[0m \u001b[0mself\u001b[0m\u001b[0;34m.\u001b[0m\u001b[0m_is_stopped\u001b[0m\u001b[0;34m\u001b[0m\u001b[0;34m\u001b[0m\u001b[0m\n\u001b[0;32m-> 1060\u001b[0;31m         \u001b[0;32melif\u001b[0m \u001b[0mlock\u001b[0m\u001b[0;34m.\u001b[0m\u001b[0macquire\u001b[0m\u001b[0;34m(\u001b[0m\u001b[0mblock\u001b[0m\u001b[0;34m,\u001b[0m \u001b[0mtimeout\u001b[0m\u001b[0;34m)\u001b[0m\u001b[0;34m:\u001b[0m\u001b[0;34m\u001b[0m\u001b[0;34m\u001b[0m\u001b[0m\n\u001b[0m\u001b[1;32m   1061\u001b[0m             \u001b[0mlock\u001b[0m\u001b[0;34m.\u001b[0m\u001b[0mrelease\u001b[0m\u001b[0;34m(\u001b[0m\u001b[0;34m)\u001b[0m\u001b[0;34m\u001b[0m\u001b[0;34m\u001b[0m\u001b[0m\n\u001b[1;32m   1062\u001b[0m             \u001b[0mself\u001b[0m\u001b[0;34m.\u001b[0m\u001b[0m_stop\u001b[0m\u001b[0;34m(\u001b[0m\u001b[0;34m)\u001b[0m\u001b[0;34m\u001b[0m\u001b[0;34m\u001b[0m\u001b[0m\n",
      "\u001b[0;31mKeyboardInterrupt\u001b[0m: "
     ]
    }
   ],
   "source": [
    "# NB this is shifted steering specific, cut half wide frames\n",
    "\n",
    "for memory in tqdm(memory_variants):\n",
    "    memory_string = 'n{}_m{}'.format(*memory)\n",
    "    path = base_path + memory_string + '/'\n",
    "\n",
    "    if not os.path.isdir(path):\n",
    "        os.mkdir(path)\n",
    "    \n",
    "    old_genfiles = glob.glob(path + '*')\n",
    "    for old_genfile in old_genfiles:\n",
    "        os.remove(old_genfile)\n",
    "    \n",
    "    tqdm.write('Writing n{}_m{} files.'.format(*memory))    \n",
    "\n",
    "    for filename in tqdm(filenames): \n",
    "        existing_count = len([fn for fn in os.listdir(path) if fn.startswith('frame_')])\n",
    "\n",
    "        frames, numerics, diffs = read_stored_data_with_shifted_labels(reader, transformer.cut_wide_and_normalize_video_shifted, filename, collector.numeric_columns(), collector.numeric_columns())\n",
    "        frames, numerics, diffs = downsample_half_max(frames, numerics, diffs, diffs[:, 1])\n",
    "        mem_frames, mem_numerics, mem_diffs = create_memorized_dataset(frames, numerics, diffs, *memory)\n",
    "                \n",
    "        for i in range(0, mem_frames.shape[0]):\n",
    "            np.save(path + GenFiles.frame.format(memory_string, i + existing_count), mem_frames[i])\n",
    "            np.save(path + GenFiles.steer.format(memory_string, i + existing_count), mem_numerics[i])\n",
    "            np.save(path + GenFiles.steer_diff.format(memory_string, i + existing_count), mem_diffs[i])\n",
    "        \n",
    "        frames, numerics = None, None\n",
    "        mem_frames, mem_numerics = None, None\n",
    "        \n",
    "        steer_diffs_upsampling = upsampling(mem_diffs[:, 1])\n",
    "        store_upsampling(steer_diffs_upsampling, path, GenFiles.steer_sampling.format(memory_string))\n",
    "\n",
    "        gc.collect()\n",
    "    tqdm.write('kinda done')"
   ]
  },
  {
   "cell_type": "code",
   "execution_count": null,
   "metadata": {},
   "outputs": [],
   "source": [
    "filename = filenames[0]\n",
    "memory = memory_variants[1]\n",
    "\n",
    "frames, numerics, diffs = read_stored_data_with_labels(reader, transformer, filename, collector.numeric_columns(), collector.numeric_columns())\n",
    "mem_frames, mem_numerics, mem_diffs = create_memorized_dataset(frames, numerics, diffs, *memory)\n",
    "\n",
    "samp_frames, samp_numerics, samp_diffs = downsample_half_max(mem_frames, mem_numerics, mem_diffs, mem_diffs[:, 1])\n",
    "\n",
    "print(mem_diffs.shape)\n",
    "print(samp_diffs.shape)"
   ]
  },
  {
   "cell_type": "code",
   "execution_count": null,
   "metadata": {},
   "outputs": [],
   "source": [
    "plot_elems = []\n",
    "plot_elems.append({'data': mem_diffs[:, 1], 'label': 'pre', 'alpha': 0.5})\n",
    "plot_elems.append({'data': samp_diffs[:, 1], 'label': 'post', 'alpha': 0.5})\n",
    "bins = np.arange(-1.0, 1.01, 0.01)\n",
    "\n",
    "plot_stuff('steering', plot_elems, bins)"
   ]
  }
 ],
 "metadata": {
  "kernelspec": {
   "display_name": "Python 3",
   "language": "python",
   "name": "python3"
  },
  "language_info": {
   "codemirror_mode": {
    "name": "ipython",
    "version": 3
   },
   "file_extension": ".py",
   "mimetype": "text/x-python",
   "name": "python",
   "nbconvert_exporter": "python",
   "pygments_lexer": "ipython3",
   "version": "3.7.4"
  },
  "pycharm": {
   "stem_cell": {
    "cell_type": "raw",
    "metadata": {
     "collapsed": false
    },
    "source": []
   }
  }
 },
 "nbformat": 4,
 "nbformat_minor": 2
}
